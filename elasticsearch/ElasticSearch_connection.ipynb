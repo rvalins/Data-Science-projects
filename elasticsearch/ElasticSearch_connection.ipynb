{
 "cells": [
  {
   "cell_type": "markdown",
   "metadata": {},
   "source": [
    "## Connecting to a NoSQL Server with Python\n",
    "## Elastic Search"
   ]
  },
  {
   "cell_type": "code",
   "execution_count": 1,
   "metadata": {},
   "outputs": [],
   "source": [
    "from elasticsearch import Elasticsearch\n",
    "from elasticsearch_dsl import Search\n",
    "import certifi\n",
    "import json\n",
    "import csv\n",
    "import pandas as pd\n",
    "from tqdm import tqdm"
   ]
  },
  {
   "cell_type": "code",
   "execution_count": 2,
   "metadata": {},
   "outputs": [],
   "source": [
    "#####  Parameters ################\n",
    "index_name = 'index_name'\n",
    "type_name = 'type_name'\n",
    "csv_file = \"base_ids.csv\"\n",
    "json_file = \"results.json\"\n",
    "##################################"
   ]
  },
  {
   "cell_type": "code",
   "execution_count": null,
   "metadata": {},
   "outputs": [],
   "source": [
    "# Connecting to Elastic Search\n",
    "try:\n",
    "    es = Elasticsearch(\n",
    "        ['server.us-east-1.aws.found.io'],\n",
    "        http_auth=('user_login', 'user_pass'),\n",
    "        port=port, #9243\n",
    "        use_ssl=True,\n",
    "        verify_certs=True,\n",
    "        ca_certs=certifi.where(),\n",
    "        )\n",
    "    print (\"\\nConnected to ElasticSearch\"), es.info()\n",
    "\n",
    "except Exception as ex:\n",
    "    print (\"\\nError to connect to ElasticSearch:\"), ex\n"
   ]
  },
  {
   "cell_type": "code",
   "execution_count": null,
   "metadata": {},
   "outputs": [],
   "source": [
    "# Get ids that was already downloaded\n",
    "df = pd.read_csv(csv_file)\n",
    "base = list(df.Ids.unique())\n",
    "print(\"\\n\")\n",
    "print(\"File '%s' imported\" % csv_file)\n",
    "print(\"Number of rows: \"+str(len(base)))\n",
    "\n",
    "print(\"\\n\")"
   ]
  },
  {
   "cell_type": "code",
   "execution_count": null,
   "metadata": {},
   "outputs": [],
   "source": [
    "# Get and compare the existing Ids at Elastic Search\n",
    "\n",
    "print(\"Starting to get Ids from server\")\n",
    "s = Search(using=es, index=index_name, doc_type=type_name)\n",
    "s = s.source([])\n",
    "ids_total = [h.meta.id for h in s.scan()] \n",
    "\n",
    "print(\"\\n\")\n",
    "print(\"ElasticSearch has %s Ids\" % len(ids_total))\n",
    "\n",
    "\n",
    "\n",
    "ids=list(set(ids_total)-set(base))\n",
    "print('\\n')\n",
    "print(\"Total of new rows: \"+str(len(ids)))\n",
    "\n",
    "# You can limit the n ids\n",
    "#n=50000\n",
    "#ids=ids[0:n]\n",
    "#print(len(ids))\n",
    "#res= es.get(index=index_name,doc_type=type_name,id=i))\n",
    "print(\"\\n\")\n",
    "print(\"Starting to get the new rows\")\n"
   ]
  },
  {
   "cell_type": "code",
   "execution_count": null,
   "metadata": {},
   "outputs": [],
   "source": [
    "# Capture information for each new Id\n",
    "json_antigo = json.load(open(json_file))\n",
    "\n",
    "data=[]\n",
    "for i in tqdm(ids):\n",
    "    \n",
    "#    print(i)\n",
    "#    print(\"\\n\")\n",
    "    data.append(es.get(index=index_name,doc_type=type_name,id=i))\n",
    "\n",
    "print(\"\\n\")\n",
    "print(\"Retrieved %s logs\" % len(data))\n",
    "\n",
    "print(\"\\n\")\n",
    "#print(data[0])"
   ]
  },
  {
   "cell_type": "code",
   "execution_count": null,
   "metadata": {},
   "outputs": [],
   "source": [
    "# Update local JSON file\n",
    "with open(json_file, 'w') as file:\n",
    "    json.dump(data+json_antigo, file)\n",
    "print(\"Ficheiro '%s' atualizado com sucesso!\" % json_file)\n",
    "print(\"\\n\")\n",
    "\n"
   ]
  },
  {
   "cell_type": "code",
   "execution_count": null,
   "metadata": {},
   "outputs": [],
   "source": [
    "# Update base_ids with the new ids\n",
    "\n",
    "base_ids = open(csv_file, \"a\")\n",
    "\n",
    "for i in ids:\n",
    "    base_ids.write(str(i)+\"\\n\")     \n",
    "base_ids.close()\n",
    "print(\"File was '%s' successfully updated!\" % csv_file)\n",
    "print(\"\\n\")"
   ]
  }
 ],
 "metadata": {
  "kernelspec": {
   "display_name": "Python 3",
   "language": "python",
   "name": "python3"
  },
  "language_info": {
   "codemirror_mode": {
    "name": "ipython",
    "version": 3
   },
   "file_extension": ".py",
   "mimetype": "text/x-python",
   "name": "python",
   "nbconvert_exporter": "python",
   "pygments_lexer": "ipython3",
   "version": "3.6.4"
  }
 },
 "nbformat": 4,
 "nbformat_minor": 2
}
