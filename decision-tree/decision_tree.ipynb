{
 "cells": [
  {
   "cell_type": "markdown",
   "metadata": {},
   "source": [
    "# Machine Learning on Weather Data (classification model)\n",
    "# Decision Tree"
   ]
  },
  {
   "cell_type": "code",
   "execution_count": 1,
   "metadata": {},
   "outputs": [],
   "source": [
    "import pandas as pd\n",
    "from sklearn.metrics import accuracy_score\n",
    "from sklearn.model_selection import train_test_split\n",
    "from sklearn.tree import DecisionTreeClassifier"
   ]
  },
  {
   "cell_type": "code",
   "execution_count": 2,
   "metadata": {},
   "outputs": [],
   "source": [
    "# Creating a Pandas DataFrame from a CSV file\n",
    "data = pd.read_csv('./weather/daily_weather.csv')"
   ]
  },
  {
   "cell_type": "code",
   "execution_count": 3,
   "metadata": {},
   "outputs": [
    {
     "data": {
      "text/plain": [
       "Index(['number', 'air_pressure_9am', 'air_temp_9am', 'avg_wind_direction_9am',\n",
       "       'avg_wind_speed_9am', 'max_wind_direction_9am', 'max_wind_speed_9am',\n",
       "       'rain_accumulation_9am', 'rain_duration_9am', 'relative_humidity_9am',\n",
       "       'relative_humidity_3pm'],\n",
       "      dtype='object')"
      ]
     },
     "execution_count": 3,
     "metadata": {},
     "output_type": "execute_result"
    }
   ],
   "source": [
    "data.columns"
   ]
  },
  {
   "cell_type": "code",
   "execution_count": 4,
   "metadata": {},
   "outputs": [
    {
     "data": {
      "text/html": [
       "<div>\n",
       "<style scoped>\n",
       "    .dataframe tbody tr th:only-of-type {\n",
       "        vertical-align: middle;\n",
       "    }\n",
       "\n",
       "    .dataframe tbody tr th {\n",
       "        vertical-align: top;\n",
       "    }\n",
       "\n",
       "    .dataframe thead th {\n",
       "        text-align: right;\n",
       "    }\n",
       "</style>\n",
       "<table border=\"1\" class=\"dataframe\">\n",
       "  <thead>\n",
       "    <tr style=\"text-align: right;\">\n",
       "      <th></th>\n",
       "      <th>number</th>\n",
       "      <th>air_pressure_9am</th>\n",
       "      <th>air_temp_9am</th>\n",
       "      <th>avg_wind_direction_9am</th>\n",
       "      <th>avg_wind_speed_9am</th>\n",
       "      <th>max_wind_direction_9am</th>\n",
       "      <th>max_wind_speed_9am</th>\n",
       "      <th>rain_accumulation_9am</th>\n",
       "      <th>rain_duration_9am</th>\n",
       "      <th>relative_humidity_9am</th>\n",
       "      <th>relative_humidity_3pm</th>\n",
       "    </tr>\n",
       "  </thead>\n",
       "  <tbody>\n",
       "    <tr>\n",
       "      <th>0</th>\n",
       "      <td>0</td>\n",
       "      <td>918.060000</td>\n",
       "      <td>74.822000</td>\n",
       "      <td>271.100000</td>\n",
       "      <td>2.080354</td>\n",
       "      <td>295.400000</td>\n",
       "      <td>2.863283</td>\n",
       "      <td>0.0</td>\n",
       "      <td>0.0</td>\n",
       "      <td>42.420000</td>\n",
       "      <td>36.160000</td>\n",
       "    </tr>\n",
       "    <tr>\n",
       "      <th>1</th>\n",
       "      <td>1</td>\n",
       "      <td>917.347688</td>\n",
       "      <td>71.403843</td>\n",
       "      <td>101.935179</td>\n",
       "      <td>2.443009</td>\n",
       "      <td>140.471548</td>\n",
       "      <td>3.533324</td>\n",
       "      <td>0.0</td>\n",
       "      <td>0.0</td>\n",
       "      <td>24.328697</td>\n",
       "      <td>19.426597</td>\n",
       "    </tr>\n",
       "    <tr>\n",
       "      <th>2</th>\n",
       "      <td>2</td>\n",
       "      <td>923.040000</td>\n",
       "      <td>60.638000</td>\n",
       "      <td>51.000000</td>\n",
       "      <td>17.067852</td>\n",
       "      <td>63.700000</td>\n",
       "      <td>22.100967</td>\n",
       "      <td>0.0</td>\n",
       "      <td>20.0</td>\n",
       "      <td>8.900000</td>\n",
       "      <td>14.460000</td>\n",
       "    </tr>\n",
       "    <tr>\n",
       "      <th>3</th>\n",
       "      <td>3</td>\n",
       "      <td>920.502751</td>\n",
       "      <td>70.138895</td>\n",
       "      <td>198.832133</td>\n",
       "      <td>4.337363</td>\n",
       "      <td>211.203341</td>\n",
       "      <td>5.190045</td>\n",
       "      <td>0.0</td>\n",
       "      <td>0.0</td>\n",
       "      <td>12.189102</td>\n",
       "      <td>12.742547</td>\n",
       "    </tr>\n",
       "    <tr>\n",
       "      <th>4</th>\n",
       "      <td>4</td>\n",
       "      <td>921.160000</td>\n",
       "      <td>44.294000</td>\n",
       "      <td>277.800000</td>\n",
       "      <td>1.856660</td>\n",
       "      <td>136.500000</td>\n",
       "      <td>2.863283</td>\n",
       "      <td>8.9</td>\n",
       "      <td>14730.0</td>\n",
       "      <td>92.410000</td>\n",
       "      <td>76.740000</td>\n",
       "    </tr>\n",
       "  </tbody>\n",
       "</table>\n",
       "</div>"
      ],
      "text/plain": [
       "   number  air_pressure_9am  air_temp_9am  avg_wind_direction_9am  \\\n",
       "0       0        918.060000     74.822000              271.100000   \n",
       "1       1        917.347688     71.403843              101.935179   \n",
       "2       2        923.040000     60.638000               51.000000   \n",
       "3       3        920.502751     70.138895              198.832133   \n",
       "4       4        921.160000     44.294000              277.800000   \n",
       "\n",
       "   avg_wind_speed_9am  max_wind_direction_9am  max_wind_speed_9am  \\\n",
       "0            2.080354              295.400000            2.863283   \n",
       "1            2.443009              140.471548            3.533324   \n",
       "2           17.067852               63.700000           22.100967   \n",
       "3            4.337363              211.203341            5.190045   \n",
       "4            1.856660              136.500000            2.863283   \n",
       "\n",
       "   rain_accumulation_9am  rain_duration_9am  relative_humidity_9am  \\\n",
       "0                    0.0                0.0              42.420000   \n",
       "1                    0.0                0.0              24.328697   \n",
       "2                    0.0               20.0               8.900000   \n",
       "3                    0.0                0.0              12.189102   \n",
       "4                    8.9            14730.0              92.410000   \n",
       "\n",
       "   relative_humidity_3pm  \n",
       "0              36.160000  \n",
       "1              19.426597  \n",
       "2              14.460000  \n",
       "3              12.742547  \n",
       "4              76.740000  "
      ]
     },
     "execution_count": 4,
     "metadata": {},
     "output_type": "execute_result"
    }
   ],
   "source": [
    "data.head()"
   ]
  },
  {
   "cell_type": "code",
   "execution_count": 5,
   "metadata": {},
   "outputs": [],
   "source": [
    "del data['number']"
   ]
  },
  {
   "cell_type": "code",
   "execution_count": 6,
   "metadata": {},
   "outputs": [
    {
     "data": {
      "text/plain": [
       "air_pressure_9am           True\n",
       "air_temp_9am               True\n",
       "avg_wind_direction_9am     True\n",
       "avg_wind_speed_9am         True\n",
       "max_wind_direction_9am     True\n",
       "max_wind_speed_9am         True\n",
       "rain_accumulation_9am      True\n",
       "rain_duration_9am          True\n",
       "relative_humidity_9am     False\n",
       "relative_humidity_3pm     False\n",
       "dtype: bool"
      ]
     },
     "execution_count": 6,
     "metadata": {},
     "output_type": "execute_result"
    }
   ],
   "source": [
    "data.isnull().any()"
   ]
  },
  {
   "cell_type": "code",
   "execution_count": 7,
   "metadata": {},
   "outputs": [
    {
     "name": "stdout",
     "output_type": "stream",
     "text": [
      "It was deleted 31 rows\n"
     ]
    }
   ],
   "source": [
    "# Data Cleaning Steps\n",
    "before_rows = data.shape[0]\n",
    "data = data.dropna()\n",
    "after_rows = data.shape[0]\n",
    "print(\"It was deleted %d rows\" %(before_rows - after_rows))"
   ]
  },
  {
   "cell_type": "code",
   "execution_count": 8,
   "metadata": {},
   "outputs": [],
   "source": [
    "# Binarize the relative_humidity_3pm to 0 or 1.\n",
    "clean_data = data.copy()\n",
    "clean_data['high_humidity_label'] = (clean_data['relative_humidity_3pm'] > 24.99)*1\n",
    "#print(clean_data['high_humidity_label'])"
   ]
  },
  {
   "cell_type": "code",
   "execution_count": 9,
   "metadata": {},
   "outputs": [],
   "source": [
    "# Target is stored in 'y'\n",
    "y=clean_data[['high_humidity_label']].copy()\n",
    "#y"
   ]
  },
  {
   "cell_type": "code",
   "execution_count": 10,
   "metadata": {},
   "outputs": [],
   "source": [
    "# Use 9am Sensor Signals as Features to Predict Humidity at 3pm\n",
    "\n",
    "morning_features = ['air_pressure_9am','air_temp_9am','avg_wind_direction_9am','avg_wind_speed_9am',\n",
    "        'max_wind_direction_9am','max_wind_speed_9am','rain_accumulation_9am',\n",
    "        'rain_duration_9am']\n",
    "\n",
    "X = clean_data[morning_features].copy()"
   ]
  },
  {
   "cell_type": "markdown",
   "metadata": {},
   "source": [
    "## Train / Test (split dataset)\n",
    "1. Split the dataset into two pieces: **a training set** and **a test set**\n",
    "2. Train the model on **the training set**\n",
    "3. Test the model on **the testing set,** and evaluate how well we did."
   ]
  },
  {
   "cell_type": "code",
   "execution_count": 11,
   "metadata": {},
   "outputs": [],
   "source": [
    "# Step 1: split X and y into training and testing sets\n",
    "from sklearn.model_selection import train_test_split\n",
    "X_train, X_test, y_train, y_test = train_test_split(X, y, test_size=0.33, random_state=324)"
   ]
  },
  {
   "cell_type": "markdown",
   "metadata": {},
   "source": [
    "### Scikit-Learn 4-step Modelling Pattern"
   ]
  },
  {
   "cell_type": "markdown",
   "metadata": {},
   "source": [
    "**Step 1:** Import the class you plan to use"
   ]
  },
  {
   "cell_type": "code",
   "execution_count": 12,
   "metadata": {},
   "outputs": [],
   "source": [
    "from sklearn.tree import DecisionTreeClassifier"
   ]
  },
  {
   "cell_type": "markdown",
   "metadata": {},
   "source": [
    "**Step 2:** Make an Instance of the \"Estimator\""
   ]
  },
  {
   "cell_type": "code",
   "execution_count": 13,
   "metadata": {},
   "outputs": [
    {
     "name": "stdout",
     "output_type": "stream",
     "text": [
      "DecisionTreeClassifier(class_weight=None, criterion='gini', max_depth=None,\n",
      "            max_features=None, max_leaf_nodes=10,\n",
      "            min_impurity_decrease=0.0, min_impurity_split=None,\n",
      "            min_samples_leaf=1, min_samples_split=2,\n",
      "            min_weight_fraction_leaf=0.0, presort=False, random_state=0,\n",
      "            splitter='best')\n"
     ]
    }
   ],
   "source": [
    "humidity_classifier = DecisionTreeClassifier(max_leaf_nodes=10, random_state=0)\n",
    "# You can understand all parameters using the print command\n",
    "print(humidity_classifier)"
   ]
  },
  {
   "cell_type": "markdown",
   "metadata": {},
   "source": [
    "**Step 3:** Fit the model with data (aka \"model training\")\n",
    "- Model is learning the relationship between X and Y\n",
    "- Occurs in-place"
   ]
  },
  {
   "cell_type": "code",
   "execution_count": 14,
   "metadata": {},
   "outputs": [
    {
     "data": {
      "text/plain": [
       "DecisionTreeClassifier(class_weight=None, criterion='gini', max_depth=None,\n",
       "            max_features=None, max_leaf_nodes=10,\n",
       "            min_impurity_decrease=0.0, min_impurity_split=None,\n",
       "            min_samples_leaf=1, min_samples_split=2,\n",
       "            min_weight_fraction_leaf=0.0, presort=False, random_state=0,\n",
       "            splitter='best')"
      ]
     },
     "execution_count": 14,
     "metadata": {},
     "output_type": "execute_result"
    }
   ],
   "source": [
    "humidity_classifier.fit(X_train, y_train)"
   ]
  },
  {
   "cell_type": "markdown",
   "metadata": {},
   "source": [
    "**Step 4:** Predict the response for a new observation\n",
    "- New observations are called \"out-of-sample\" data\n",
    "- Uses the information it learned during the model training process"
   ]
  },
  {
   "cell_type": "code",
   "execution_count": 15,
   "metadata": {},
   "outputs": [],
   "source": [
    "y_pred = humidity_classifier.predict(X_test)"
   ]
  },
  {
   "cell_type": "markdown",
   "metadata": {},
   "source": [
    "<p style=\"font-family: Arial; font-size:1.75em;color:purple; font-style:bold\"><br>\n",
    "\n",
    "Measure Accuracy of the Classifier\n",
    "<br><br></p>"
   ]
  },
  {
   "cell_type": "code",
   "execution_count": 16,
   "metadata": {},
   "outputs": [
    {
     "name": "stdout",
     "output_type": "stream",
     "text": [
      "0.8153409090909091\n"
     ]
    }
   ],
   "source": [
    "print(accuracy_score(y_test, y_pred))"
   ]
  }
 ],
 "metadata": {
  "kernelspec": {
   "display_name": "Python 3",
   "language": "python",
   "name": "python3"
  },
  "language_info": {
   "codemirror_mode": {
    "name": "ipython",
    "version": 3
   },
   "file_extension": ".py",
   "mimetype": "text/x-python",
   "name": "python",
   "nbconvert_exporter": "python",
   "pygments_lexer": "ipython3",
   "version": "3.7.4"
  }
 },
 "nbformat": 4,
 "nbformat_minor": 4
}
