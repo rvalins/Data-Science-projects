{
 "cells": [
  {
   "cell_type": "markdown",
   "metadata": {},
   "source": [
    "## Convert JSON file to CSV with Python\n",
    "## JSON file"
   ]
  },
  {
   "cell_type": "code",
   "execution_count": null,
   "metadata": {},
   "outputs": [],
   "source": [
    "import pyodbc\n",
    "import pandas as pd\n",
    "import datetime\n",
    "import csv\n"
   ]
  },
  {
   "cell_type": "code",
   "execution_count": null,
   "metadata": {},
   "outputs": [],
   "source": [
    "# Write the complete path/filename\n",
    "json_file = 'file.json'\n",
    "csv_file = 'file.csv'\n"
   ]
  },
  {
   "cell_type": "code",
   "execution_count": null,
   "metadata": {},
   "outputs": [],
   "source": [
    "# Loading JSON file\n",
    "print(\"\\n\")\n",
    "print(\"Process was initiated\")\n",
    "print(\"\\n\")\n",
    "\n",
    "print(\"Loading file '%s'\" % json_file)\n",
    "print(\"\\n\")\n",
    "\n",
    "df = pd.read_json(json_file, orient='columns')\n",
    "\n",
    "print(\"File '%s' was successfully load!\" % json_file)\n",
    "print(\"\\n\")\n"
   ]
  },
  {
   "cell_type": "code",
   "execution_count": null,
   "metadata": {},
   "outputs": [],
   "source": [
    "# You will need to specify the columns\n",
    "print(\"Getting values from columns JSON\")\n",
    "print(\"\\n\")\n",
    "# Some Examples for coding\n",
    "id = [d for d in df['_id']]\n",
    "idCustomer = [d.get('idCustomer') for d in df['_source']]\n",
    "date = [d.get('data') for d in df['_source']]\n",
    "date = [datetime.datetime.strptime(d[:19], '%Y-%m-%dT%H:%M:%S') for d in date]\n",
    "duration = [d.get('duration') for d in df['_source']]\n",
    "Order = [d.get('order') for d in df['_source']]\n",
    "idOrder = [id.get('id') if id is not None else None for id in order ]\n",
    "\n",
    "#Testes\n",
    "#print(idCustomer)\n",
    "#print(idOrder)\n",
    "#df[['_id','_source']] \n",
    "\n",
    "\n"
   ]
  },
  {
   "cell_type": "code",
   "execution_count": null,
   "metadata": {},
   "outputs": [],
   "source": [
    "# Create a dataframe to export to csv_file\n",
    "print(\"Creating the dataframe to export to csv_file\")\n",
    "print(\"\\n\")\n",
    "\n",
    "data = pd.DataFrame(data=[id,idCustomer,date,duration,Order, idOrder]).transpose()\n",
    "\n",
    "# Columns name\n",
    "data.columns = ['Id','IdCustomer','Date','Duration','Order','IdOrder']\n",
    "\n",
    "print(\"Dataframe was successfully created\")\n",
    "print(\"\\n\")\n"
   ]
  },
  {
   "cell_type": "code",
   "execution_count": null,
   "metadata": {},
   "outputs": [],
   "source": [
    "# Create the csv_file\n",
    "print(\"Creating the csv_file '%s'\" % csv_file)\n",
    "print(\"\\n\")\n",
    "\n",
    "\n",
    "data.to_csv(csv_file, index=False, na_rep=\"\")\n",
    "\n",
    "print(\"File '%s' successfully created!\" % csv_file)\n",
    "print(\"\\n\")\n"
   ]
  }
 ],
 "metadata": {
  "kernelspec": {
   "display_name": "Python 3",
   "language": "python",
   "name": "python3"
  },
  "language_info": {
   "codemirror_mode": {
    "name": "ipython",
    "version": 3
   },
   "file_extension": ".py",
   "mimetype": "text/x-python",
   "name": "python",
   "nbconvert_exporter": "python",
   "pygments_lexer": "ipython3",
   "version": "3.7.4"
  }
 },
 "nbformat": 4,
 "nbformat_minor": 4
}
