{
 "cells": [
  {
   "cell_type": "markdown",
   "metadata": {},
   "source": [
    "# Multivariate Time Series Forecasting\n",
    "# Long Short-Term Memory (LSTM)"
   ]
  },
  {
   "cell_type": "markdown",
   "metadata": {},
   "source": [
    "Based on Jason Brownlee's tutorial: [Multivariate Time Series Forecasting with LSTMs in Keras](https://machinelearningmastery.com/multivariate-time-series-forecasting-lstms-keras/)"
   ]
  },
  {
   "cell_type": "code",
   "execution_count": 1,
   "metadata": {},
   "outputs": [],
   "source": [
    "from math import sqrt\n",
    "import pandas as pd\n",
    "from datetime import datetime\n",
    "import numpy as np\n",
    "import matplotlib.pyplot as plt\n",
    "%matplotlib inline"
   ]
  },
  {
   "cell_type": "code",
   "execution_count": 2,
   "metadata": {},
   "outputs": [],
   "source": [
    "parse = lambda x: pd.datetime.strptime(x, '%Y %m %d %H')\n",
    "df = pd.read_csv('pollution.csv', \\\n",
    "                 parse_dates =[['year', 'month', 'day', 'hour']], \\\n",
    "                 skiprows=25, \\\n",
    "                 usecols=[1,2,3,4,5,6,7,8,9,10,11,12], \\\n",
    "                 names = [\"year\",\"month\",\"day\", \"hour\",\"pollution\",\"dew\",\"temp\",\"press\", \"wnd_dir\",\"wnd_spd\",\"snow\", \"rain\"], \\\n",
    "                 date_parser = parse, \\\n",
    "                index_col=0)\n",
    "\n",
    "df.index.name = 'date'\n",
    "# mark all NA values with 0\n",
    "df['pollution'].fillna(0, inplace=True)"
   ]
  },
  {
   "cell_type": "code",
   "execution_count": 3,
   "metadata": {},
   "outputs": [
    {
     "data": {
      "text/html": [
       "<div>\n",
       "<style scoped>\n",
       "    .dataframe tbody tr th:only-of-type {\n",
       "        vertical-align: middle;\n",
       "    }\n",
       "\n",
       "    .dataframe tbody tr th {\n",
       "        vertical-align: top;\n",
       "    }\n",
       "\n",
       "    .dataframe thead th {\n",
       "        text-align: right;\n",
       "    }\n",
       "</style>\n",
       "<table border=\"1\" class=\"dataframe\">\n",
       "  <thead>\n",
       "    <tr style=\"text-align: right;\">\n",
       "      <th></th>\n",
       "      <th>pollution</th>\n",
       "      <th>dew</th>\n",
       "      <th>temp</th>\n",
       "      <th>press</th>\n",
       "      <th>wnd_dir</th>\n",
       "      <th>wnd_spd</th>\n",
       "      <th>snow</th>\n",
       "      <th>rain</th>\n",
       "    </tr>\n",
       "    <tr>\n",
       "      <th>date</th>\n",
       "      <th></th>\n",
       "      <th></th>\n",
       "      <th></th>\n",
       "      <th></th>\n",
       "      <th></th>\n",
       "      <th></th>\n",
       "      <th></th>\n",
       "      <th></th>\n",
       "    </tr>\n",
       "  </thead>\n",
       "  <tbody>\n",
       "    <tr>\n",
       "      <th>2010-01-02 00:00:00</th>\n",
       "      <td>129.0</td>\n",
       "      <td>-16</td>\n",
       "      <td>-4.0</td>\n",
       "      <td>1020.0</td>\n",
       "      <td>SE</td>\n",
       "      <td>1.79</td>\n",
       "      <td>0</td>\n",
       "      <td>0</td>\n",
       "    </tr>\n",
       "    <tr>\n",
       "      <th>2010-01-02 01:00:00</th>\n",
       "      <td>148.0</td>\n",
       "      <td>-15</td>\n",
       "      <td>-4.0</td>\n",
       "      <td>1020.0</td>\n",
       "      <td>SE</td>\n",
       "      <td>2.68</td>\n",
       "      <td>0</td>\n",
       "      <td>0</td>\n",
       "    </tr>\n",
       "    <tr>\n",
       "      <th>2010-01-02 02:00:00</th>\n",
       "      <td>159.0</td>\n",
       "      <td>-11</td>\n",
       "      <td>-5.0</td>\n",
       "      <td>1021.0</td>\n",
       "      <td>SE</td>\n",
       "      <td>3.57</td>\n",
       "      <td>0</td>\n",
       "      <td>0</td>\n",
       "    </tr>\n",
       "    <tr>\n",
       "      <th>2010-01-02 03:00:00</th>\n",
       "      <td>181.0</td>\n",
       "      <td>-7</td>\n",
       "      <td>-5.0</td>\n",
       "      <td>1022.0</td>\n",
       "      <td>SE</td>\n",
       "      <td>5.36</td>\n",
       "      <td>1</td>\n",
       "      <td>0</td>\n",
       "    </tr>\n",
       "    <tr>\n",
       "      <th>2010-01-02 04:00:00</th>\n",
       "      <td>138.0</td>\n",
       "      <td>-7</td>\n",
       "      <td>-5.0</td>\n",
       "      <td>1022.0</td>\n",
       "      <td>SE</td>\n",
       "      <td>6.25</td>\n",
       "      <td>2</td>\n",
       "      <td>0</td>\n",
       "    </tr>\n",
       "  </tbody>\n",
       "</table>\n",
       "</div>"
      ],
      "text/plain": [
       "                     pollution  dew  temp   press wnd_dir  wnd_spd  snow  rain\n",
       "date                                                                          \n",
       "2010-01-02 00:00:00      129.0  -16  -4.0  1020.0      SE     1.79     0     0\n",
       "2010-01-02 01:00:00      148.0  -15  -4.0  1020.0      SE     2.68     0     0\n",
       "2010-01-02 02:00:00      159.0  -11  -5.0  1021.0      SE     3.57     0     0\n",
       "2010-01-02 03:00:00      181.0   -7  -5.0  1022.0      SE     5.36     1     0\n",
       "2010-01-02 04:00:00      138.0   -7  -5.0  1022.0      SE     6.25     2     0"
      ]
     },
     "execution_count": 3,
     "metadata": {},
     "output_type": "execute_result"
    }
   ],
   "source": [
    "df.head()"
   ]
  },
  {
   "cell_type": "code",
   "execution_count": 4,
   "metadata": {},
   "outputs": [
    {
     "data": {
      "image/png": "[encoded data removed]",
      "text/plain": [
       "<matplotlib.figure.Figure at 0x19896f49470>"
      ]
     },
     "metadata": {},
     "output_type": "display_data"
    }
   ],
   "source": [
    "# plots each series as a separate subplot\n",
    "values = df.values\n",
    "# specify columns to plot\n",
    "groups = [0, 1, 2, 3, 5, 6, 7]\n",
    "i = 1\n",
    "# plot each column\n",
    "plt.figure()\n",
    "for group in groups:\n",
    "    plt.subplot(len(groups), 1, i)\n",
    "    plt.plot(values[:, group])\n",
    "    plt.title(df.columns[group], y=0.5, loc='right')\n",
    "    i += 1\n",
    "plt.show()"
   ]
  },
  {
   "cell_type": "code",
   "execution_count": 5,
   "metadata": {},
   "outputs": [
    {
     "data": {
      "text/plain": [
       "pollution    float64\n",
       "dew            int64\n",
       "temp         float64\n",
       "press        float64\n",
       "wnd_dir       object\n",
       "wnd_spd      float64\n",
       "snow           int64\n",
       "rain           int64\n",
       "dtype: object"
      ]
     },
     "execution_count": 5,
     "metadata": {},
     "output_type": "execute_result"
    }
   ],
   "source": [
    "df.dtypes"
   ]
  },
  {
   "cell_type": "code",
   "execution_count": 6,
   "metadata": {},
   "outputs": [],
   "source": [
    "# Encode the categorical columns\n",
    "# in this case, we have only wnd_dir\n",
    "# df --> data\n",
    "from sklearn.preprocessing import LabelEncoder\n",
    "\n",
    "encs = dict()\n",
    "data = df.copy()  #.sample(frac=1)\n",
    "for c in data.columns:\n",
    "    if data[c].dtype == \"object\":\n",
    "        encs[c] = LabelEncoder()\n",
    "        data[c] = encs[c].fit_transform(data[c])"
   ]
  },
  {
   "cell_type": "code",
   "execution_count": 7,
   "metadata": {},
   "outputs": [
    {
     "data": {
      "text/plain": [
       "pollution    float64\n",
       "dew            int64\n",
       "temp         float64\n",
       "press        float64\n",
       "wnd_dir        int32\n",
       "wnd_spd      float64\n",
       "snow           int64\n",
       "rain           int64\n",
       "dtype: object"
      ]
     },
     "execution_count": 7,
     "metadata": {},
     "output_type": "execute_result"
    }
   ],
   "source": [
    "data.dtypes"
   ]
  },
  {
   "cell_type": "code",
   "execution_count": 8,
   "metadata": {},
   "outputs": [],
   "source": [
    "# ensure all data is float\n",
    "values = data.values.astype('float32')"
   ]
  },
  {
   "cell_type": "code",
   "execution_count": 9,
   "metadata": {},
   "outputs": [],
   "source": [
    "# normalize features\n",
    "from sklearn.preprocessing import MinMaxScaler\n",
    "scaler = MinMaxScaler(feature_range=(0, 1))\n",
    "scaled = scaler.fit_transform(values)"
   ]
  },
  {
   "cell_type": "code",
   "execution_count": 10,
   "metadata": {},
   "outputs": [],
   "source": [
    "# convert series to supervised learning\n",
    "def series_to_supervised(data, n_in=1, n_out=1, dropnan=True):\n",
    "    n_vars = 1 if type(data) is list else data.shape[1]\n",
    "    df = pd.DataFrame(data)\n",
    "    cols, names = list(), list()\n",
    "    # input sequence (t-n, ... t-1)\n",
    "    for i in range(n_in, 0, -1):\n",
    "        cols.append(df.shift(i))\n",
    "        names += [('var%d(t-%d)' % (j+1, i)) for j in range(n_vars)]\n",
    "    # forecast sequence (t, t+1, ... t+n)\n",
    "    for i in range(0, n_out):\n",
    "        cols.append(df.shift(-i))\n",
    "        if i == 0:\n",
    "            names += [('var%d(t)' % (j+1)) for j in range(n_vars)]\n",
    "        else:\n",
    "            names += [('var%d(t+%d)' % (j+1, i)) for j in range(n_vars)]\n",
    "    # put it all together\n",
    "    agg = pd.concat(cols, axis=1)\n",
    "    agg.columns = names\n",
    "    # drop rows with NaN values\n",
    "    if dropnan:\n",
    "        agg.dropna(inplace=True)\n",
    "    return agg\n",
    "\n",
    "\n",
    "# specify the number of lag hours\n",
    "n_hours = 3\n",
    "n_features = 8\n",
    "# frame as supervised learning\n",
    "reframed = series_to_supervised(scaled, n_hours, 1)\n"
   ]
  },
  {
   "cell_type": "code",
   "execution_count": 11,
   "metadata": {},
   "outputs": [],
   "source": [
    "# To understand this function, run each code below in a cell\n",
    "#reframed[['var1(t)', 'var1(t-1)','var1(t-2)','var1(t-3)']]\n",
    "#pd.DataFrame(scaled).head()\n",
    "#0,129779"
   ]
  },
  {
   "cell_type": "code",
   "execution_count": 12,
   "metadata": {},
   "outputs": [
    {
     "name": "stdout",
     "output_type": "stream",
     "text": [
      "(8760, 24) 8760 (8760,)\n"
     ]
    }
   ],
   "source": [
    "# split into train and test sets\n",
    "values = reframed.values\n",
    "n_train_hours = 365 * 24\n",
    "train = values[:n_train_hours, :]\n",
    "test = values[n_train_hours:, :]\n",
    "\n",
    "\n",
    "# split into input and outputs\n",
    "n_obs = n_hours * n_features\n",
    "train_X, train_y = train[:, :n_obs], train[:, -n_features]\n",
    "test_X, test_y = test[:, :n_obs], test[:, -n_features]\n",
    "print(train_X.shape, len(train_X), train_y.shape)"
   ]
  },
  {
   "cell_type": "code",
   "execution_count": 13,
   "metadata": {},
   "outputs": [
    {
     "name": "stdout",
     "output_type": "stream",
     "text": [
      "(8760, 3, 8) (8760,) (35037, 3, 8) (35037,)\n"
     ]
    }
   ],
   "source": [
    "# reshape input to be 3D [samples, timesteps, features]\n",
    "train_X = train_X.reshape((train_X.shape[0], n_hours, n_features))\n",
    "test_X = test_X.reshape((test_X.shape[0], n_hours, n_features))\n",
    "print(train_X.shape, train_y.shape, test_X.shape, test_y.shape)"
   ]
  },
  {
   "cell_type": "code",
   "execution_count": 14,
   "metadata": {},
   "outputs": [
    {
     "name": "stderr",
     "output_type": "stream",
     "text": [
      "C:\\Users\\Ricardo\\Anaconda3\\lib\\site-packages\\h5py\\__init__.py:36: FutureWarning: Conversion of the second argument of issubdtype from `float` to `np.floating` is deprecated. In future, it will be treated as `np.float64 == np.dtype(float).type`.\n",
      "  from ._conv import register_converters as _register_converters\n",
      "Using TensorFlow backend.\n"
     ]
    },
    {
     "name": "stdout",
     "output_type": "stream",
     "text": [
      "Train on 8760 samples, validate on 35037 samples\n",
      "Epoch 1/50\n",
      " - 1s - loss: 0.0551 - val_loss: 0.0624\n",
      "Epoch 2/50\n",
      " - 0s - loss: 0.0259 - val_loss: 0.0340\n",
      "Epoch 3/50\n",
      " - 0s - loss: 0.0212 - val_loss: 0.0227\n",
      "Epoch 4/50\n",
      " - 0s - loss: 0.0207 - val_loss: 0.0215\n",
      "Epoch 5/50\n",
      " - 0s - loss: 0.0205 - val_loss: 0.0200\n",
      "Epoch 6/50\n",
      " - 0s - loss: 0.0201 - val_loss: 0.0195\n",
      "Epoch 7/50\n",
      " - 0s - loss: 0.0197 - val_loss: 0.0186\n",
      "Epoch 8/50\n",
      " - 1s - loss: 0.0192 - val_loss: 0.0185\n",
      "Epoch 9/50\n",
      " - 0s - loss: 0.0185 - val_loss: 0.0178\n",
      "Epoch 10/50\n",
      " - 0s - loss: 0.0184 - val_loss: 0.0176\n",
      "Epoch 11/50\n",
      " - 0s - loss: 0.0175 - val_loss: 0.0173\n",
      "Epoch 12/50\n",
      " - 0s - loss: 0.0170 - val_loss: 0.0181\n",
      "Epoch 13/50\n",
      " - 0s - loss: 0.0167 - val_loss: 0.0176\n",
      "Epoch 14/50\n",
      " - 0s - loss: 0.0161 - val_loss: 0.0182\n",
      "Epoch 15/50\n",
      " - 1s - loss: 0.0157 - val_loss: 0.0183\n",
      "Epoch 16/50\n",
      " - 1s - loss: 0.0153 - val_loss: 0.0177\n",
      "Epoch 17/50\n",
      " - 1s - loss: 0.0150 - val_loss: 0.0176\n",
      "Epoch 18/50\n",
      " - 1s - loss: 0.0148 - val_loss: 0.0172\n",
      "Epoch 19/50\n",
      " - 1s - loss: 0.0148 - val_loss: 0.0166\n",
      "Epoch 20/50\n",
      " - 1s - loss: 0.0146 - val_loss: 0.0162\n",
      "Epoch 21/50\n",
      " - 0s - loss: 0.0144 - val_loss: 0.0162\n",
      "Epoch 22/50\n",
      " - 0s - loss: 0.0146 - val_loss: 0.0158\n",
      "Epoch 23/50\n",
      " - 0s - loss: 0.0145 - val_loss: 0.0149\n",
      "Epoch 24/50\n",
      " - 0s - loss: 0.0143 - val_loss: 0.0152\n",
      "Epoch 25/50\n",
      " - 1s - loss: 0.0147 - val_loss: 0.0148\n",
      "Epoch 26/50\n",
      " - 0s - loss: 0.0147 - val_loss: 0.0145\n",
      "Epoch 27/50\n",
      " - 0s - loss: 0.0145 - val_loss: 0.0140\n",
      "Epoch 28/50\n",
      " - 0s - loss: 0.0142 - val_loss: 0.0144\n",
      "Epoch 29/50\n",
      " - 0s - loss: 0.0145 - val_loss: 0.0145\n",
      "Epoch 30/50\n",
      " - 0s - loss: 0.0143 - val_loss: 0.0141\n",
      "Epoch 31/50\n",
      " - 0s - loss: 0.0144 - val_loss: 0.0143\n",
      "Epoch 32/50\n",
      " - 0s - loss: 0.0145 - val_loss: 0.0141\n",
      "Epoch 33/50\n",
      " - 0s - loss: 0.0144 - val_loss: 0.0139\n",
      "Epoch 34/50\n",
      " - 0s - loss: 0.0144 - val_loss: 0.0137\n",
      "Epoch 35/50\n",
      " - 0s - loss: 0.0144 - val_loss: 0.0137\n",
      "Epoch 36/50\n",
      " - 0s - loss: 0.0143 - val_loss: 0.0137\n",
      "Epoch 37/50\n",
      " - 0s - loss: 0.0142 - val_loss: 0.0137\n",
      "Epoch 38/50\n",
      " - 0s - loss: 0.0143 - val_loss: 0.0137\n",
      "Epoch 39/50\n",
      " - 0s - loss: 0.0143 - val_loss: 0.0137\n",
      "Epoch 40/50\n",
      " - 0s - loss: 0.0142 - val_loss: 0.0137\n",
      "Epoch 41/50\n",
      " - 0s - loss: 0.0143 - val_loss: 0.0137\n",
      "Epoch 42/50\n",
      " - 0s - loss: 0.0142 - val_loss: 0.0136\n",
      "Epoch 43/50\n",
      " - 0s - loss: 0.0143 - val_loss: 0.0136\n",
      "Epoch 44/50\n",
      " - 0s - loss: 0.0142 - val_loss: 0.0136\n",
      "Epoch 45/50\n",
      " - 0s - loss: 0.0141 - val_loss: 0.0135\n",
      "Epoch 46/50\n",
      " - 0s - loss: 0.0142 - val_loss: 0.0136\n",
      "Epoch 47/50\n",
      " - 0s - loss: 0.0142 - val_loss: 0.0136\n",
      "Epoch 48/50\n",
      " - 0s - loss: 0.0142 - val_loss: 0.0137\n",
      "Epoch 49/50\n",
      " - 0s - loss: 0.0141 - val_loss: 0.0135\n",
      "Epoch 50/50\n",
      " - 0s - loss: 0.0142 - val_loss: 0.0136\n"
     ]
    },
    {
     "data": {
      "image/png": "[encoded data removed]",
      "text/plain": [
       "<matplotlib.figure.Figure at 0x198b1fbc518>"
      ]
     },
     "metadata": {},
     "output_type": "display_data"
    }
   ],
   "source": [
    "from sklearn.metrics import mean_squared_error\n",
    "from keras.models import Sequential\n",
    "from keras.layers import Dense\n",
    "from keras.layers import LSTM\n",
    "\n",
    "# design network\n",
    "model = Sequential()\n",
    "model.add(LSTM(50, input_shape=(train_X.shape[1], train_X.shape[2])))\n",
    "model.add(Dense(1))\n",
    "model.compile(loss='mae', optimizer='adam')\n",
    "# fit network\n",
    "history = model.fit(train_X, train_y, epochs=50, batch_size=72, validation_data=(test_X, test_y), verbose=2, shuffle=False)\n",
    "# plot history\n",
    "plt.plot(history.history['loss'], label='train')\n",
    "plt.plot(history.history['val_loss'], label='test')\n",
    "plt.legend()\n",
    "plt.show()"
   ]
  },
  {
   "cell_type": "code",
   "execution_count": 15,
   "metadata": {},
   "outputs": [
    {
     "name": "stdout",
     "output_type": "stream",
     "text": [
      "Test RMSE: 26.464\n"
     ]
    }
   ],
   "source": [
    "# make a prediction\n",
    "yhat = model.predict(test_X)\n",
    "test_X = test_X.reshape((test_X.shape[0], n_hours*n_features))\n",
    "# invert scaling for forecast\n",
    "inv_yhat = np.concatenate((yhat, test_X[:, -7:]), axis=1)\n",
    "inv_yhat = scaler.inverse_transform(inv_yhat)\n",
    "inv_yhat = inv_yhat[:,0]\n",
    "# invert scaling for actual\n",
    "test_y = test_y.reshape((len(test_y), 1))\n",
    "inv_y = np.concatenate((test_y, test_X[:, -7:]), axis=1)\n",
    "inv_y = scaler.inverse_transform(inv_y)\n",
    "inv_y = inv_y[:,0]\n",
    "# calculate RMSE\n",
    "rmse = sqrt(mean_squared_error(inv_y, inv_yhat))\n",
    "print('Test RMSE: %.3f' % rmse)"
   ]
  },
  {
   "cell_type": "code",
   "execution_count": 16,
   "metadata": {},
   "outputs": [
    {
     "data": {
      "image/png": "[encoded data removed]",
      "text/plain": [
       "<matplotlib.figure.Figure at 0x198b49bc2e8>"
      ]
     },
     "metadata": {},
     "output_type": "display_data"
    }
   ],
   "source": [
    "# The predictions look like persistence value(t) = value(t-1)\n",
    "plt.plot(inv_yhat[-100:])\n",
    "plt.plot(inv_y[-100:])\n",
    "plt.show()"
   ]
  },
  {
   "cell_type": "code",
   "execution_count": null,
   "metadata": {},
   "outputs": [],
   "source": []
  }
 ],
 "metadata": {
  "kernelspec": {
   "display_name": "Python 3",
   "language": "python",
   "name": "python3"
  },
  "language_info": {
   "codemirror_mode": {
    "name": "ipython",
    "version": 3
   },
   "file_extension": ".py",
   "mimetype": "text/x-python",
   "name": "python",
   "nbconvert_exporter": "python",
   "pygments_lexer": "ipython3",
   "version": "3.6.4"
  }
 },
 "nbformat": 4,
 "nbformat_minor": 2
}
