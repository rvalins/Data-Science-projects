{
 "cells": [
  {
   "cell_type": "markdown",
   "metadata": {},
   "source": [
    "## Send Email to a mailing list in Python via Gmail\n",
    "## Include attachments for each group of recipients"
   ]
  },
  {
   "cell_type": "code",
   "execution_count": 1,
   "metadata": {},
   "outputs": [],
   "source": [
    "# Create a file (\"config.py\") containing your credentials and the HTML email content (model below)\n",
    "EMAIL_ADDRESS = \"email_address\"\n",
    "PASSWORD = \"pass\"\n",
    "ALIAS = \"alias_name <email_address>\"\n",
    "\n",
    "\n",
    "EMAIL_HTML = \"\"\"\n",
    "\n",
    "\n",
    "Insert your message here - HTML code (mother tongue)\n",
    "\n",
    "\"\"\"\n",
    "\n",
    "EMAIL_HTML_EN = \"\"\"\n",
    "\n",
    "Insert your message here - HTML code (English)\n",
    "\n",
    "\"\"\"\n",
    "\n"
   ]
  },
  {
   "cell_type": "code",
   "execution_count": 2,
   "metadata": {},
   "outputs": [],
   "source": [
    "import config\n",
    "import smtplib\n",
    "import pandas as pd\n",
    "from datetime import datetime\n",
    "import os"
   ]
  },
  {
   "cell_type": "code",
   "execution_count": 3,
   "metadata": {},
   "outputs": [],
   "source": [
    "# Parametros\n",
    "root_path = '2018-10/'\n",
    "csv_file = \"mailing_list/mail_list.csv\"\n",
    "periodo = 'Outubro-2018'\n",
    "period = 'October-2018'\n",
    "log_file = \"log.csv\"\n"
   ]
  },
  {
   "cell_type": "code",
   "execution_count": 4,
   "metadata": {},
   "outputs": [],
   "source": [
    "# Email module\n",
    "from email.mime.text import MIMEText\n",
    "from email.mime.multipart import MIMEMultipart\n",
    "from email.mime.base import MIMEBase\n",
    "from email import encoders\n"
   ]
  },
  {
   "cell_type": "code",
   "execution_count": 5,
   "metadata": {},
   "outputs": [
    {
     "name": "stdout",
     "output_type": "stream",
     "text": [
      "\n",
      "\n",
      "CSV 'mailing_list/mail_list.csv' loaded\n",
      "\n",
      "\n",
      "Number of rows: 1\n"
     ]
    }
   ],
   "source": [
    "# Import your mailing list csv\n",
    "df = pd.read_csv(csv_file)\n",
    "print(\"\\n\")\n",
    "print(\"CSV '%s' loaded\" % csv_file)\n",
    "print(\"\\n\")\n",
    "print(\"Number of rows: \"+str(df.shape[0]))\n"
   ]
  },
  {
   "cell_type": "code",
   "execution_count": 6,
   "metadata": {},
   "outputs": [
    {
     "name": "stdout",
     "output_type": "stream",
     "text": [
      "\n",
      "\n",
      "Your csv_file contain the required colums to continue\n"
     ]
    }
   ],
   "source": [
    "# Check integrity of columns at csv file\n",
    "lista=df.columns\n",
    "if 'Pessoa - E-mail' and 'Pessoa - Organização' and 'Organização - Idioma' in lista:\n",
    "    print(\"\\n\")\n",
    "    print(\"Your csv_file contain the required colums to continue\")\n",
    "else:\n",
    "    print(\"\\n\")\n",
    "    print(\"Please, check if the required colums exists at the csv_file\")\n",
    "    exit()\n"
   ]
  },
  {
   "cell_type": "code",
   "execution_count": 7,
   "metadata": {},
   "outputs": [
    {
     "name": "stdout",
     "output_type": "stream",
     "text": [
      "\n",
      "\n",
      "Number of recipients without email: 0\n",
      "\n",
      "\n",
      "Total number of valid recipients: 1\n",
      "\n",
      "\n"
     ]
    }
   ],
   "source": [
    "# Drop recipients without email address\n",
    "antes = int(df.shape[0])\n",
    "df.dropna(subset=['Pessoa - E-mail'], inplace=True)\n",
    "depois = int(df.shape[0])\n",
    "print(\"\\n\")\n",
    "print(\"Number of recipients without email: \"+str(antes-depois))\n",
    "print(\"\\n\")\n",
    "print(\"Total number of valid recipients: \"+str(df.shape[0]))\n",
    "print(\"\\n\")\n"
   ]
  },
  {
   "cell_type": "code",
   "execution_count": 8,
   "metadata": {},
   "outputs": [],
   "source": [
    "# Rename columns\n",
    "df.rename(columns={\"Pessoa - Organização\": \"Ambiente\", \"Pessoa - E-mail\": \"Email\", \"Organização - Idioma\": \"Idioma\"}, inplace=True)\n",
    "\n",
    "# Create recipient list according to group of company\n",
    "ambientes = list(df.Ambiente.unique())\n",
    "for nome_ambiente in ambientes: \n",
    "\n",
    "        email_send = ', '.join(df['Email'][df['Ambiente'] == nome_ambiente])        \n",
    "\n",
    "        \n",
    "        idioma = (df['Idioma'][df['Ambiente'] == nome_ambiente]).unique()\n"
   ]
  },
  {
   "cell_type": "code",
   "execution_count": 9,
   "metadata": {},
   "outputs": [],
   "source": [
    "        # Sender information\n",
    "        email_user = config.EMAIL_ADDRESS\n",
    "        email_password = config.PASSWORD\n",
    "        email_alias = config.ALIAS\n"
   ]
  },
  {
   "cell_type": "code",
   "execution_count": 10,
   "metadata": {},
   "outputs": [],
   "source": [
    "        # You can add bcc email address\n",
    "        email_bcc = ['email_bcc@domain.com']\n",
    "        # more than one: email_bcc = ['bob@rocks.com', 'julian_is@awesome.com']\n"
   ]
  },
  {
   "cell_type": "code",
   "execution_count": 11,
   "metadata": {},
   "outputs": [],
   "source": [
    "        # Code\n",
    "        diretorio = root_path+nome_ambiente+'/'\n",
    "\n",
    "        \n",
    "        ficheiros = os.listdir(diretorio)\n"
   ]
  },
  {
   "cell_type": "code",
   "execution_count": 12,
   "metadata": {},
   "outputs": [],
   "source": [
    "        if idioma == 'Português':\n",
    "            mes = periodo\n",
    "            subject = 'Subject Test '+mes \n",
    "            html = config.EMAIL_HTML\n",
    "            body = 'Prezados Senhores\\nEncaminho em anexo o relatório.\\nMeus melhores cumprimentos'\n",
    "        else:\n",
    "            mes = period\n",
    "            subject = 'Subject Test '+mes\n",
    "            html = config.EMAIL_HTML_EN\n",
    "            body = 'Dear Sir / Madam\\nYou are receiving our report\\nBest regards'\n",
    "\n"
   ]
  },
  {
   "cell_type": "code",
   "execution_count": 13,
   "metadata": {},
   "outputs": [],
   "source": [
    "        # Code\n",
    "        msg  = MIMEMultipart('alternative')\n",
    "        #msg  = MIMEMultipart()\n",
    "        msg['From'] = config.ALIAS\n",
    "        msg['To'] = email_send\n",
    "        msg['Subject'] = subject\n"
   ]
  },
  {
   "cell_type": "code",
   "execution_count": 14,
   "metadata": {},
   "outputs": [],
   "source": [
    "        msg.attach(MIMEText(body,'plain'))\n",
    "        msg.attach(MIMEText(html,'html'))\n"
   ]
  },
  {
   "cell_type": "code",
   "execution_count": 15,
   "metadata": {},
   "outputs": [
    {
     "name": "stdout",
     "output_type": "stream",
     "text": [
      "Success: Email was sent to Company.\n"
     ]
    }
   ],
   "source": [
    "        for x in ficheiros:\n",
    "            filename = diretorio+x\n",
    "            attachment = x\n",
    "            \n",
    "            \n",
    "            part = MIMEBase('application','octet-stream')\n",
    "            part.set_payload(open(filename,'rb').read())\n",
    "            encoders.encode_base64(part)\n",
    "            part.add_header('Content-Disposition','attachment', filename= attachment)\n",
    "            msg.attach(part)\n",
    "            text = msg.as_string()\n",
    "\n",
    "        try:\n",
    "                        \n",
    "            server = smtplib.SMTP('smtp.gmail.com',587)\n",
    "            server.starttls()\n",
    "            server.login(email_user,email_password)\n",
    "                            \n",
    "            server.sendmail(email_user,[email_send]+email_bcc,text)\n",
    "            server.quit()\n",
    "            print(\"Success: Email was sent to %s.\" % nome_ambiente)\n",
    "\n",
    "            #print(\"Sucess: Email sent!\")\n",
    "            #print(\"Success: Email was sent to %s.\" % email_send)\n",
    "\n",
    "            # cria variavel tempo\n",
    "            now = str(datetime.now())\n",
    "\n",
    "            # Acrescenta info no arquivo Log\n",
    "            log = open(log_file, \"a\")\n",
    "            log.write(now+\";\"+str(nome_ambiente)+\";\"+str(email_send)+\"\\n\")     \n",
    "            log.close()\n",
    "        except:\n",
    "            print(\"Email failed to send to %s.\"  % nome_ambiente)\n",
    "            #print(\"Email failed to send.\")"
   ]
  },
  {
   "cell_type": "code",
   "execution_count": null,
   "metadata": {},
   "outputs": [],
   "source": []
  }
 ],
 "metadata": {
  "kernelspec": {
   "display_name": "Python 3",
   "language": "python",
   "name": "python3"
  },
  "language_info": {
   "codemirror_mode": {
    "name": "ipython",
    "version": 3
   },
   "file_extension": ".py",
   "mimetype": "text/x-python",
   "name": "python",
   "nbconvert_exporter": "python",
   "pygments_lexer": "ipython3",
   "version": "3.6.4"
  }
 },
 "nbformat": 4,
 "nbformat_minor": 2
}
