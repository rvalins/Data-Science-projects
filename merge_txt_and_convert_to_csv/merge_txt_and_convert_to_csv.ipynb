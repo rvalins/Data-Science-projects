{
 "cells": [
  {
   "cell_type": "markdown",
   "metadata": {},
   "source": [
    "## Merge TXT files and Convert to CSV\n",
    "## Automatically merge txt files based on column position and convert to CSV"
   ]
  },
  {
   "cell_type": "code",
   "execution_count": 1,
   "metadata": {},
   "outputs": [],
   "source": [
    "import os\n",
    "import pandas as pd"
   ]
  },
  {
   "cell_type": "code",
   "execution_count": 2,
   "metadata": {},
   "outputs": [],
   "source": [
    "# Test to explore file\n",
    "#txt_file = 'DesmatamentoMunicipios2000.txt'\n",
    "#encoding_type = 'ISO-8859–1'\n",
    "\n",
    "#dataset=pd.read_csv(txt_file,encoding=encoding_type)\n",
    "#dataset.head()"
   ]
  },
  {
   "cell_type": "code",
   "execution_count": 3,
   "metadata": {},
   "outputs": [],
   "source": [
    "# Set the path to the files that you want to process (or use the current path)\n",
    "\n",
    "path = os.getcwd()\n",
    "#path = \"C:\\\\Users\\\\Ricardo\\\\Desktop\\\\dados\"\n",
    "files = os.listdir(path)\n",
    "\n",
    "# Set the encoding type\n",
    "encoding_type = 'ISO-8859–1'"
   ]
  },
  {
   "cell_type": "code",
   "execution_count": 4,
   "metadata": {},
   "outputs": [
    {
     "data": {
      "text/plain": [
       "'C:\\\\Users\\\\Ricardo\\\\Desktop\\\\dados'"
      ]
     },
     "execution_count": 4,
     "metadata": {},
     "output_type": "execute_result"
    }
   ],
   "source": [
    "path"
   ]
  },
  {
   "cell_type": "code",
   "execution_count": 5,
   "metadata": {},
   "outputs": [
    {
     "data": {
      "text/plain": [
       "['DesmatamentoMunicipios2000.txt',\n",
       " 'DesmatamentoMunicipios2001.txt',\n",
       " 'DesmatamentoMunicipios2002.txt',\n",
       " 'DesmatamentoMunicipios2003.txt',\n",
       " 'DesmatamentoMunicipios2004.txt',\n",
       " 'DesmatamentoMunicipios2005.txt',\n",
       " 'DesmatamentoMunicipios2006.txt',\n",
       " 'DesmatamentoMunicipios2007.txt',\n",
       " 'DesmatamentoMunicipios2008.txt',\n",
       " 'DesmatamentoMunicipios2009.txt',\n",
       " 'DesmatamentoMunicipios2010.txt',\n",
       " 'DesmatamentoMunicipios2011.txt',\n",
       " 'DesmatamentoMunicipios2012.txt',\n",
       " 'DesmatamentoMunicipios2013.txt',\n",
       " 'DesmatamentoMunicipios2014.txt',\n",
       " 'DesmatamentoMunicipios2015.txt',\n",
       " 'DesmatamentoMunicipios2016.txt',\n",
       " 'DesmatamentoMunicipios2017.txt',\n",
       " 'DesmatamentoMunicipios2018.txt']"
      ]
     },
     "execution_count": 5,
     "metadata": {},
     "output_type": "execute_result"
    }
   ],
   "source": [
    "files_txt = [f for f in files if f[-3:] == 'txt']\n",
    "\n",
    "files_txt"
   ]
  },
  {
   "cell_type": "code",
   "execution_count": 6,
   "metadata": {},
   "outputs": [],
   "source": [
    "all_data = []\n",
    "for f in files_txt:\n",
    "    info = pd.read_csv(f,encoding=encoding_type,header=None,skiprows=1)\n",
    "    info['File'] = str(f[-8:-4])\n",
    "    all_data.append(info)\n",
    "    "
   ]
  },
  {
   "cell_type": "code",
   "execution_count": 7,
   "metadata": {},
   "outputs": [],
   "source": [
    "\n",
    "df = pd.concat(all_data, ignore_index=True, sort=False)\n",
    "df.columns =['Nr','Lat','Long','Latgms','Longms','Municipio','CodIbge','Estado',\\\n",
    "             'AreaKm2','DesmatadoAno','IncrementoAnoAnt','FlorestaAno','NuvemAno',\\\n",
    "             'NaoObservadoAno','NaoFlorestaAno','HidrografiaAno','Soma','Ano']\n",
    "\n"
   ]
  },
  {
   "cell_type": "code",
   "execution_count": 8,
   "metadata": {},
   "outputs": [
    {
     "data": {
      "text/plain": [
       "Index(['Nr', 'Lat', 'Long', 'Latgms', 'Longms', 'Municipio', 'CodIbge',\n",
       "       'Estado', 'AreaKm2', 'DesmatadoAno', 'IncrementoAnoAnt', 'FlorestaAno',\n",
       "       'NuvemAno', 'NaoObservadoAno', 'NaoFlorestaAno', 'HidrografiaAno',\n",
       "       'Soma', 'Ano'],\n",
       "      dtype='object')"
      ]
     },
     "execution_count": 8,
     "metadata": {},
     "output_type": "execute_result"
    }
   ],
   "source": [
    "df.columns"
   ]
  },
  {
   "cell_type": "code",
   "execution_count": 9,
   "metadata": {},
   "outputs": [
    {
     "data": {
      "text/plain": [
       "(14440, 18)"
      ]
     },
     "execution_count": 9,
     "metadata": {},
     "output_type": "execute_result"
    }
   ],
   "source": [
    "df.shape"
   ]
  },
  {
   "cell_type": "code",
   "execution_count": 10,
   "metadata": {},
   "outputs": [
    {
     "data": {
      "text/html": [
       "<div>\n",
       "<style scoped>\n",
       "    .dataframe tbody tr th:only-of-type {\n",
       "        vertical-align: middle;\n",
       "    }\n",
       "\n",
       "    .dataframe tbody tr th {\n",
       "        vertical-align: top;\n",
       "    }\n",
       "\n",
       "    .dataframe thead th {\n",
       "        text-align: right;\n",
       "    }\n",
       "</style>\n",
       "<table border=\"1\" class=\"dataframe\">\n",
       "  <thead>\n",
       "    <tr style=\"text-align: right;\">\n",
       "      <th></th>\n",
       "      <th>Nr</th>\n",
       "      <th>Lat</th>\n",
       "      <th>Long</th>\n",
       "      <th>Latgms</th>\n",
       "      <th>Longms</th>\n",
       "      <th>Municipio</th>\n",
       "      <th>CodIbge</th>\n",
       "      <th>Estado</th>\n",
       "      <th>AreaKm2</th>\n",
       "      <th>DesmatadoAno</th>\n",
       "      <th>IncrementoAnoAnt</th>\n",
       "      <th>FlorestaAno</th>\n",
       "      <th>NuvemAno</th>\n",
       "      <th>NaoObservadoAno</th>\n",
       "      <th>NaoFlorestaAno</th>\n",
       "      <th>HidrografiaAno</th>\n",
       "      <th>Soma</th>\n",
       "      <th>Ano</th>\n",
       "    </tr>\n",
       "  </thead>\n",
       "  <tbody>\n",
       "    <tr>\n",
       "      <th>0</th>\n",
       "      <td>1</td>\n",
       "      <td>-3.12356</td>\n",
       "      <td>-47.40354</td>\n",
       "      <td>S 3 7 24.82</td>\n",
       "      <td>O 47 24 12.74</td>\n",
       "      <td>Paragominas</td>\n",
       "      <td>1505502</td>\n",
       "      <td>PA</td>\n",
       "      <td>19465</td>\n",
       "      <td>7212.3</td>\n",
       "      <td>NaN</td>\n",
       "      <td>12208.2</td>\n",
       "      <td>0.0</td>\n",
       "      <td>1.4</td>\n",
       "      <td>7.1</td>\n",
       "      <td>36.0</td>\n",
       "      <td>100</td>\n",
       "      <td>2000</td>\n",
       "    </tr>\n",
       "    <tr>\n",
       "      <th>1</th>\n",
       "      <td>2</td>\n",
       "      <td>-7.46114</td>\n",
       "      <td>-52.46225</td>\n",
       "      <td>S 7 27 40.10</td>\n",
       "      <td>O 52 27 44.10</td>\n",
       "      <td>São Félix do Xingu</td>\n",
       "      <td>1507300</td>\n",
       "      <td>PA</td>\n",
       "      <td>84253</td>\n",
       "      <td>7037.4</td>\n",
       "      <td>NaN</td>\n",
       "      <td>72482.1</td>\n",
       "      <td>0.0</td>\n",
       "      <td>6.5</td>\n",
       "      <td>3788.0</td>\n",
       "      <td>939.0</td>\n",
       "      <td>100</td>\n",
       "      <td>2000</td>\n",
       "    </tr>\n",
       "    <tr>\n",
       "      <th>2</th>\n",
       "      <td>3</td>\n",
       "      <td>-5.52503</td>\n",
       "      <td>-49.94418</td>\n",
       "      <td>S 5 31 30.11</td>\n",
       "      <td>O 49 56 39.05</td>\n",
       "      <td>Marabá</td>\n",
       "      <td>1504208</td>\n",
       "      <td>PA</td>\n",
       "      <td>15161</td>\n",
       "      <td>5818.9</td>\n",
       "      <td>NaN</td>\n",
       "      <td>9218.2</td>\n",
       "      <td>0.0</td>\n",
       "      <td>1.7</td>\n",
       "      <td>36.2</td>\n",
       "      <td>86.0</td>\n",
       "      <td>100</td>\n",
       "      <td>2000</td>\n",
       "    </tr>\n",
       "    <tr>\n",
       "      <th>3</th>\n",
       "      <td>4</td>\n",
       "      <td>-11.22873</td>\n",
       "      <td>-57.64737</td>\n",
       "      <td>S 11 13 43.43</td>\n",
       "      <td>O 57 38 50.53</td>\n",
       "      <td>Juara</td>\n",
       "      <td>5105101</td>\n",
       "      <td>MT</td>\n",
       "      <td>22666</td>\n",
       "      <td>5520.7</td>\n",
       "      <td>NaN</td>\n",
       "      <td>15388.4</td>\n",
       "      <td>0.0</td>\n",
       "      <td>29.3</td>\n",
       "      <td>1600.6</td>\n",
       "      <td>127.0</td>\n",
       "      <td>100</td>\n",
       "      <td>2000</td>\n",
       "    </tr>\n",
       "    <tr>\n",
       "      <th>4</th>\n",
       "      <td>5</td>\n",
       "      <td>-4.29175</td>\n",
       "      <td>-45.93682</td>\n",
       "      <td>S 4 17 30.30</td>\n",
       "      <td>O 45 56 12.55</td>\n",
       "      <td>Santa Luzia</td>\n",
       "      <td>2110005</td>\n",
       "      <td>MA</td>\n",
       "      <td>6245</td>\n",
       "      <td>5373.3</td>\n",
       "      <td>NaN</td>\n",
       "      <td>871.3</td>\n",
       "      <td>0.0</td>\n",
       "      <td>0.4</td>\n",
       "      <td>0.0</td>\n",
       "      <td>0.0</td>\n",
       "      <td>100</td>\n",
       "      <td>2000</td>\n",
       "    </tr>\n",
       "  </tbody>\n",
       "</table>\n",
       "</div>"
      ],
      "text/plain": [
       "   Nr       Lat      Long         Latgms         Longms           Municipio  \\\n",
       "0   1  -3.12356 -47.40354    S 3 7 24.82  O 47 24 12.74         Paragominas   \n",
       "1   2  -7.46114 -52.46225   S 7 27 40.10  O 52 27 44.10  São Félix do Xingu   \n",
       "2   3  -5.52503 -49.94418   S 5 31 30.11  O 49 56 39.05              Marabá   \n",
       "3   4 -11.22873 -57.64737  S 11 13 43.43  O 57 38 50.53               Juara   \n",
       "4   5  -4.29175 -45.93682   S 4 17 30.30  O 45 56 12.55         Santa Luzia   \n",
       "\n",
       "   CodIbge Estado  AreaKm2  DesmatadoAno  IncrementoAnoAnt  FlorestaAno  \\\n",
       "0  1505502     PA    19465        7212.3               NaN      12208.2   \n",
       "1  1507300     PA    84253        7037.4               NaN      72482.1   \n",
       "2  1504208     PA    15161        5818.9               NaN       9218.2   \n",
       "3  5105101     MT    22666        5520.7               NaN      15388.4   \n",
       "4  2110005     MA     6245        5373.3               NaN        871.3   \n",
       "\n",
       "   NuvemAno  NaoObservadoAno  NaoFlorestaAno  HidrografiaAno  Soma   Ano  \n",
       "0       0.0              1.4             7.1            36.0   100  2000  \n",
       "1       0.0              6.5          3788.0           939.0   100  2000  \n",
       "2       0.0              1.7            36.2            86.0   100  2000  \n",
       "3       0.0             29.3          1600.6           127.0   100  2000  \n",
       "4       0.0              0.4             0.0             0.0   100  2000  "
      ]
     },
     "execution_count": 10,
     "metadata": {},
     "output_type": "execute_result"
    }
   ],
   "source": [
    "df.head()"
   ]
  },
  {
   "cell_type": "code",
   "execution_count": 11,
   "metadata": {},
   "outputs": [],
   "source": [
    "df.to_csv(\"dados-consolidados.csv\", index = False, sep=';', encoding='utf-8')"
   ]
  },
  {
   "cell_type": "code",
   "execution_count": null,
   "metadata": {},
   "outputs": [],
   "source": []
  }
 ],
 "metadata": {
  "kernelspec": {
   "display_name": "Python 3",
   "language": "python",
   "name": "python3"
  },
  "language_info": {
   "codemirror_mode": {
    "name": "ipython",
    "version": 3
   },
   "file_extension": ".py",
   "mimetype": "text/x-python",
   "name": "python",
   "nbconvert_exporter": "python",
   "pygments_lexer": "ipython3",
   "version": "3.7.4"
  }
 },
 "nbformat": 4,
 "nbformat_minor": 4
}
