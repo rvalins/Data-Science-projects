{
 "cells": [
  {
   "cell_type": "markdown",
   "metadata": {},
   "source": [
    "# Emotion and identity detection from face images\n",
    "# Convolutional neural network"
   ]
  },
  {
   "cell_type": "markdown",
   "metadata": {},
   "source": [
    "#### https://www.kaggle.com/c/facial-keypoints-detector\n",
    "#### https://www.datascienceacademy.com.br/"
   ]
  },
  {
   "cell_type": "code",
   "execution_count": 5,
   "metadata": {},
   "outputs": [],
   "source": [
    "# Imports\n",
    "import os\n",
    "import sys\n",
    "import inspect\n",
    "import numpy as np\n",
    "import tensorflow as tf\n",
    "import matplotlib.pyplot as plt\n",
    "from modulos import utils\n",
    "from datetime import datetime\n",
    "from tensorflow.python.framework import ops\n",
    "from sklearn.metrics.classification import accuracy_score\n",
    "from sklearn.metrics import precision_recall_fscore_support\n",
    "import warnings\n",
    "warnings.filterwarnings(\"ignore\")"
   ]
  },
  {
   "cell_type": "code",
   "execution_count": 6,
   "metadata": {},
   "outputs": [
    {
     "data": {
      "text/plain": [
       "'1.12.0'"
      ]
     },
     "execution_count": 6,
     "metadata": {},
     "output_type": "execute_result"
    }
   ],
   "source": [
    "# TensorFlow version\n",
    "\n",
    "# CPU: pip install tensorflow\n",
    "# GPU: pip install tensorflow_gpu\n",
    "tf.__version__"
   ]
  },
  {
   "cell_type": "code",
   "execution_count": 7,
   "metadata": {},
   "outputs": [],
   "source": [
    "os.environ['TF_CPP_MIN_LOG_LEVEL'] = '3'\n",
    "ops.reset_default_graph()\n",
    "np.random.seed(123456789)"
   ]
  },
  {
   "cell_type": "code",
   "execution_count": 8,
   "metadata": {},
   "outputs": [],
   "source": [
    "FLAGS = tf.flags.FLAGS\n",
    "tf.flags.DEFINE_string(\"data_dir\", \"dataset/\", \"Caminho para o diretório com dados de treino e de teste\")\n",
    "tf.flags.DEFINE_string(\"logs_dir\", \"modelo/\", \"Caminho para o diretório onde o modelo será gravado\")\n",
    "tf.flags.DEFINE_string(\"mode\", \"train\", \"mode: train (Default)/ test\")"
   ]
  },
  {
   "cell_type": "code",
   "execution_count": 9,
   "metadata": {},
   "outputs": [],
   "source": [
    "# Hyperparâmetros\n",
    "BATCH_SIZE = 128\n",
    "LEARNING_RATE = 1e-3\n",
    "MAX_ITERATIONS = 1000\n",
    "REGULARIZATION = 1e-3\n",
    "IMAGE_SIZE = 48\n",
    "NUM_LABELS = 7\n",
    "VALIDATION_PERCENT = 0.1"
   ]
  },
  {
   "cell_type": "markdown",
   "metadata": {},
   "source": [
    "### Funções Auxiliares Para Construção do Modelo"
   ]
  },
  {
   "cell_type": "code",
   "execution_count": 10,
   "metadata": {},
   "outputs": [],
   "source": [
    "def add_to_regularization_loss(W, b):\n",
    "    tf.add_to_collection(\"losses\", tf.nn.l2_loss(W))\n",
    "    tf.add_to_collection(\"losses\", tf.nn.l2_loss(b))"
   ]
  },
  {
   "cell_type": "code",
   "execution_count": 11,
   "metadata": {},
   "outputs": [],
   "source": [
    "def weight_variable(shape, stddev=0.02, name=None):\n",
    "    initial = tf.truncated_normal(shape, stddev=stddev)\n",
    "    if name is None:\n",
    "        return tf.Variable(initial)\n",
    "    else:\n",
    "        return tf.get_variable(name, initializer=initial)"
   ]
  },
  {
   "cell_type": "code",
   "execution_count": 12,
   "metadata": {},
   "outputs": [],
   "source": [
    "def bias_variable(shape, name=None):\n",
    "    initial = tf.constant(0.0, shape=shape)\n",
    "    if name is None:\n",
    "        return tf.Variable(initial)\n",
    "    else:\n",
    "        return tf.get_variable(name, initializer=initial)"
   ]
  },
  {
   "cell_type": "markdown",
   "metadata": {},
   "source": [
    "### Construção do Modelo"
   ]
  },
  {
   "cell_type": "code",
   "execution_count": 13,
   "metadata": {},
   "outputs": [],
   "source": [
    "def emotionCNN(dataset):\n",
    "    \n",
    "    # Camada de Convolução 1\n",
    "    with tf.name_scope(\"conv1\") as scope:\n",
    "        tf.summary.histogram(\"W_conv1\", weights['wc1'])\n",
    "        tf.summary.histogram(\"b_conv1\", biases['bc1'])\n",
    "        conv_1 = tf.nn.conv2d(dataset, weights['wc1'], strides=[1, 1, 1, 1], padding=\"SAME\")\n",
    "        h_conv1 = tf.nn.bias_add(conv_1, biases['bc1'])\n",
    "        h_1 = tf.nn.relu(h_conv1)\n",
    "        h_pool1 = tf.nn.max_pool(h_1, ksize=[1, 2, 2, 1], strides=[1, 2, 2, 1], padding=\"SAME\")\n",
    "        add_to_regularization_loss(weights['wc1'], biases['bc1'])\n",
    "\n",
    "    # Camada de Convolução 2\n",
    "    with tf.name_scope(\"conv2\") as scope:\n",
    "        tf.summary.histogram(\"W_conv2\", weights['wc2'])\n",
    "        tf.summary.histogram(\"b_conv2\", biases['bc2'])\n",
    "        conv_2 = tf.nn.conv2d(h_pool1, weights['wc2'], strides=[1, 1, 1, 1], padding=\"SAME\")\n",
    "        h_conv2 = tf.nn.bias_add(conv_2, biases['bc2'])\n",
    "        h_2 = tf.nn.relu(h_conv2)\n",
    "        h_pool2 = tf.nn.max_pool(h_2, ksize=[1, 2, 2, 1], strides=[1, 2, 2, 1], padding=\"SAME\")\n",
    "        add_to_regularization_loss(weights['wc2'], biases['bc2'])\n",
    "\n",
    "    # Camada Totalmente Conectada 1\n",
    "    with tf.name_scope(\"fc_1\") as scope:\n",
    "        prob = 0.5\n",
    "        image_size = IMAGE_SIZE // 4\n",
    "        h_flat = tf.reshape(h_pool2, [-1, image_size * image_size * 64])\n",
    "        tf.summary.histogram(\"W_fc1\", weights['wf1'])\n",
    "        tf.summary.histogram(\"b_fc1\", biases['bf1'])\n",
    "        h_fc1 = tf.nn.relu(tf.matmul(h_flat, weights['wf1']) + biases['bf1'])\n",
    "        h_fc1_dropout = tf.nn.dropout(h_fc1, prob)\n",
    "        \n",
    "    # Camada Totalmente Conectada 2\n",
    "    with tf.name_scope(\"fc_2\") as scope:\n",
    "        tf.summary.histogram(\"W_fc2\", weights['wf2'])\n",
    "        tf.summary.histogram(\"b_fc2\", biases['bf2'])\n",
    "        pred = tf.matmul(h_fc1_dropout, weights['wf2']) + biases['bf2']\n",
    "\n",
    "    return pred"
   ]
  },
  {
   "cell_type": "code",
   "execution_count": 14,
   "metadata": {},
   "outputs": [],
   "source": [
    "# Pesos e Bias do Modelo\n",
    "weights = {\n",
    "    'wc1': weight_variable([5, 5, 1, 32], name=\"W_conv1\"),\n",
    "    'wc2': weight_variable([3, 3, 32, 64],name=\"W_conv2\"),\n",
    "    'wf1': weight_variable([int((IMAGE_SIZE // 4) * (IMAGE_SIZE // 4)) * 64, 256],name=\"W_fc1\"),\n",
    "    'wf2': weight_variable([256, NUM_LABELS], name=\"W_fc2\")\n",
    "}\n",
    "\n",
    "biases = {\n",
    "    'bc1': bias_variable([32], name=\"b_conv1\"),\n",
    "    'bc2': bias_variable([64], name=\"b_conv2\"),\n",
    "    'bf1': bias_variable([256], name=\"b_fc1\"),\n",
    "    'bf2': bias_variable([NUM_LABELS], name=\"b_fc2\")\n",
    "}"
   ]
  },
  {
   "cell_type": "code",
   "execution_count": 15,
   "metadata": {},
   "outputs": [],
   "source": [
    "def loss(pred, label):\n",
    "    cross_entropy_loss = tf.reduce_mean(tf.nn.softmax_cross_entropy_with_logits(logits=pred, labels=label))\n",
    "    tf.summary.scalar('Entropy', cross_entropy_loss)\n",
    "    reg_losses = tf.add_n(tf.get_collection(\"losses\"))\n",
    "    tf.summary.scalar('Reg_loss', reg_losses)\n",
    "    return cross_entropy_loss + REGULARIZATION * reg_losses"
   ]
  },
  {
   "cell_type": "code",
   "execution_count": 16,
   "metadata": {},
   "outputs": [],
   "source": [
    "def train(loss, step):\n",
    "    return tf.train.AdamOptimizer(LEARNING_RATE).minimize(loss, global_step=step)"
   ]
  },
  {
   "cell_type": "code",
   "execution_count": 17,
   "metadata": {},
   "outputs": [],
   "source": [
    "def get_next_batch(images, labels, step):\n",
    "    offset = (step * BATCH_SIZE) % (images.shape[0] - BATCH_SIZE)\n",
    "    batch_images = images[offset: offset + BATCH_SIZE]\n",
    "    batch_labels = labels[offset:offset + BATCH_SIZE]\n",
    "    return batch_images, batch_labels"
   ]
  },
  {
   "cell_type": "code",
   "execution_count": 18,
   "metadata": {},
   "outputs": [],
   "source": [
    "# Listas para resultados de treinamento\n",
    "train_error_list = []\n",
    "train_step_list = []\n",
    "\n",
    "# Listas para resultados de validação\n",
    "valid_error_list = []\n",
    "valid_step_list = []"
   ]
  },
  {
   "cell_type": "markdown",
   "metadata": {},
   "source": [
    "### Treinamento"
   ]
  },
  {
   "cell_type": "code",
   "execution_count": 19,
   "metadata": {},
   "outputs": [
    {
     "name": "stdout",
     "output_type": "stream",
     "text": [
      "[]\n",
      "[]\n"
     ]
    }
   ],
   "source": [
    "def main(argv=None):\n",
    "    \n",
    "    # Carrega os dados\n",
    "    train_images, train_labels, valid_images, valid_labels, test_images = utils.read_data(FLAGS.data_dir)\n",
    "    \n",
    "    print(\"\\nTamanho do Dataset de Treino: %s\" % train_images.shape[0])\n",
    "    print('Tamanho do Dataset de Validação: %s' % valid_images.shape[0])\n",
    "    print(\"Tamanho do Dataset de Teste: %s\" % test_images.shape[0])\n",
    "\n",
    "    global_step = tf.Variable(0, trainable=False)\n",
    "    dropout_prob = tf.placeholder(tf.float32)\n",
    "    input_dataset = tf.placeholder(tf.float32, [None, IMAGE_SIZE, IMAGE_SIZE, 1], name=\"input\")\n",
    "    input_labels = tf.placeholder(tf.float32, [None, NUM_LABELS])\n",
    "\n",
    "    pred = emotionCNN(input_dataset)\n",
    "    output_pred = tf.nn.softmax(pred, name=\"output\")\n",
    "    loss_val = loss(pred, input_labels)\n",
    "    train_op = train(loss_val, global_step)\n",
    "\n",
    "    summary_op = tf.summary.merge_all()\n",
    "    init_op = tf.global_variables_initializer()\n",
    "\n",
    "    with tf.Session() as sess:\n",
    "        sess.run(init_op)\n",
    "        summary_writer = tf.summary.FileWriter(FLAGS.logs_dir, sess.graph)\n",
    "        saver = tf.train.Saver()\n",
    "        ckpt = tf.train.get_checkpoint_state(FLAGS.logs_dir)\n",
    "        if ckpt and ckpt.model_checkpoint_path:\n",
    "            saver.restore(sess, ckpt.model_checkpoint_path)\n",
    "            print(\"Modelo Restaurado!\")\n",
    "\n",
    "        for step in range(MAX_ITERATIONS):\n",
    "            batch_image, batch_label = get_next_batch(train_images, train_labels, step)\n",
    "            feed_dict = {input_dataset: batch_image, input_labels: batch_label}\n",
    "\n",
    "            sess.run(train_op, feed_dict=feed_dict)\n",
    "            if step % 10 == 0:\n",
    "                train_loss, summary_str = sess.run([loss_val, summary_op], feed_dict=feed_dict)\n",
    "                summary_writer.add_summary(summary_str, global_step=step)\n",
    "                train_error_list.append(train_loss)\n",
    "                train_step_list.append(step)\n",
    "                print(\"Taxa de Erro no Treinamento: %f\" % train_loss)\n",
    "\n",
    "            if step % 100 == 0:\n",
    "                valid_loss = sess.run(loss_val, feed_dict={input_dataset: valid_images, input_labels: valid_labels})\n",
    "                valid_error_list.append(valid_loss)\n",
    "                valid_step_list.append(step)\n",
    "                print(\"%s Taxa de Erro na Validação: %f\" % (datetime.now(), valid_loss))\n",
    "                saver.save(sess, FLAGS.logs_dir + 'model.ckpt', global_step=step)\n",
    "        \n",
    "        # Plot do erro durante o treinamento\n",
    "        plt.plot(train_step_list, train_error_list, 'r--', label='Erro no Treinamento Por Iteração', linewidth=4)\n",
    "        plt.title('Erro no Treinamento Por Iteração')\n",
    "        plt.xlabel('Iteração')\n",
    "        plt.ylabel('Erro no Treinamento')\n",
    "        plt.legend(loc='upper right')\n",
    "        plt.show()\n",
    "\n",
    "        # Plot do erro durante a validação\n",
    "        plt.plot(valid_step_list, valid_error_list, 'r--', label='Erro na Validação Por Iteração', linewidth=4)\n",
    "        plt.title('Erro na Validação Por Iteração')\n",
    "        plt.xlabel('Iteração')\n",
    "        plt.ylabel('Erro na Validação')\n",
    "        plt.legend(loc='upper right')\n",
    "        plt.show()  \n",
    "\n",
    "print(train_error_list) \n",
    "print(valid_error_list) "
   ]
  },
  {
   "cell_type": "code",
   "execution_count": 20,
   "metadata": {},
   "outputs": [
    {
     "name": "stdout",
     "output_type": "stream",
     "text": [
      "\n",
      "Tamanho do Dataset de Treino: 3761\n",
      "Tamanho do Dataset de Validação: 417\n",
      "Tamanho do Dataset de Teste: 1312\n",
      "WARNING:tensorflow:From <ipython-input-15-dec8419985f4>:2: softmax_cross_entropy_with_logits (from tensorflow.python.ops.nn_ops) is deprecated and will be removed in a future version.\n",
      "Instructions for updating:\n",
      "\n",
      "Future major versions of TensorFlow will allow gradients to flow\n",
      "into the labels input on backprop by default.\n",
      "\n",
      "See `tf.nn.softmax_cross_entropy_with_logits_v2`.\n",
      "\n",
      "INFO:tensorflow:Restoring parameters from modelo/model.ckpt-900\n",
      "Modelo Restaurado!\n",
      "Taxa de Erro no Treinamento: 0.347436\n",
      "2018-12-03 10:12:33.174274 Taxa de Erro na Validação: 0.718865\n",
      "Taxa de Erro no Treinamento: 0.153959\n",
      "Taxa de Erro no Treinamento: 0.120037\n",
      "Taxa de Erro no Treinamento: 0.163604\n",
      "Taxa de Erro no Treinamento: 0.112930\n",
      "Taxa de Erro no Treinamento: 0.141716\n",
      "Taxa de Erro no Treinamento: 0.109278\n",
      "Taxa de Erro no Treinamento: 0.105689\n",
      "Taxa de Erro no Treinamento: 0.120556\n",
      "Taxa de Erro no Treinamento: 0.140987\n",
      "Taxa de Erro no Treinamento: 0.113844\n",
      "2018-12-03 10:13:24.469362 Taxa de Erro na Validação: 0.687296\n",
      "Taxa de Erro no Treinamento: 0.128049\n",
      "Taxa de Erro no Treinamento: 0.147235\n",
      "Taxa de Erro no Treinamento: 0.132917\n",
      "Taxa de Erro no Treinamento: 0.147201\n",
      "Taxa de Erro no Treinamento: 0.118848\n",
      "Taxa de Erro no Treinamento: 0.106343\n",
      "Taxa de Erro no Treinamento: 0.138676\n",
      "Taxa de Erro no Treinamento: 0.108944\n",
      "Taxa de Erro no Treinamento: 0.114512\n",
      "Taxa de Erro no Treinamento: 0.131845\n",
      "2018-12-03 10:14:17.311290 Taxa de Erro na Validação: 0.695265\n",
      "Taxa de Erro no Treinamento: 0.106762\n",
      "Taxa de Erro no Treinamento: 0.138873\n",
      "Taxa de Erro no Treinamento: 0.094827\n",
      "Taxa de Erro no Treinamento: 0.086155\n",
      "Taxa de Erro no Treinamento: 0.111918\n",
      "Taxa de Erro no Treinamento: 0.105749\n",
      "Taxa de Erro no Treinamento: 0.137330\n",
      "Taxa de Erro no Treinamento: 0.103571\n",
      "Taxa de Erro no Treinamento: 0.106950\n",
      "Taxa de Erro no Treinamento: 0.139690\n",
      "2018-12-03 10:15:10.124662 Taxa de Erro na Validação: 0.736804\n",
      "Taxa de Erro no Treinamento: 0.153073\n",
      "Taxa de Erro no Treinamento: 0.119755\n",
      "Taxa de Erro no Treinamento: 0.133681\n",
      "Taxa de Erro no Treinamento: 0.132458\n",
      "Taxa de Erro no Treinamento: 0.086836\n",
      "Taxa de Erro no Treinamento: 0.099374\n",
      "Taxa de Erro no Treinamento: 0.185352\n",
      "Taxa de Erro no Treinamento: 0.152938\n",
      "Taxa de Erro no Treinamento: 0.115375\n",
      "Taxa de Erro no Treinamento: 0.124195\n",
      "2018-12-03 10:16:02.916993 Taxa de Erro na Validação: 0.727636\n",
      "Taxa de Erro no Treinamento: 0.094140\n",
      "Taxa de Erro no Treinamento: 0.129799\n",
      "Taxa de Erro no Treinamento: 0.098458\n",
      "Taxa de Erro no Treinamento: 0.122115\n",
      "Taxa de Erro no Treinamento: 0.135155\n",
      "Taxa de Erro no Treinamento: 0.105771\n",
      "Taxa de Erro no Treinamento: 0.073154\n",
      "Taxa de Erro no Treinamento: 0.081762\n",
      "Taxa de Erro no Treinamento: 0.153060\n",
      "Taxa de Erro no Treinamento: 0.099801\n",
      "2018-12-03 10:16:55.642395 Taxa de Erro na Validação: 0.800506\n",
      "Taxa de Erro no Treinamento: 0.091080\n",
      "Taxa de Erro no Treinamento: 0.070140\n",
      "Taxa de Erro no Treinamento: 0.087968\n",
      "Taxa de Erro no Treinamento: 0.100890\n",
      "Taxa de Erro no Treinamento: 0.090531\n",
      "Taxa de Erro no Treinamento: 0.066244\n",
      "Taxa de Erro no Treinamento: 0.086221\n",
      "Taxa de Erro no Treinamento: 0.134064\n",
      "Taxa de Erro no Treinamento: 0.072351\n",
      "Taxa de Erro no Treinamento: 0.113182\n",
      "2018-12-03 10:17:48.650051 Taxa de Erro na Validação: 0.789487\n",
      "Taxa de Erro no Treinamento: 0.116774\n",
      "Taxa de Erro no Treinamento: 0.117284\n",
      "Taxa de Erro no Treinamento: 0.087806\n",
      "Taxa de Erro no Treinamento: 0.091301\n",
      "Taxa de Erro no Treinamento: 0.099875\n",
      "Taxa de Erro no Treinamento: 0.154322\n",
      "Taxa de Erro no Treinamento: 0.107815\n",
      "Taxa de Erro no Treinamento: 0.118305\n",
      "Taxa de Erro no Treinamento: 0.070809\n",
      "Taxa de Erro no Treinamento: 0.076753\n",
      "2018-12-03 10:18:41.761397 Taxa de Erro na Validação: 0.721723\n",
      "Taxa de Erro no Treinamento: 0.073274\n",
      "Taxa de Erro no Treinamento: 0.086303\n",
      "Taxa de Erro no Treinamento: 0.077294\n",
      "Taxa de Erro no Treinamento: 0.095385\n",
      "Taxa de Erro no Treinamento: 0.079357\n",
      "Taxa de Erro no Treinamento: 0.102106\n",
      "Taxa de Erro no Treinamento: 0.112784\n",
      "Taxa de Erro no Treinamento: 0.101419\n",
      "Taxa de Erro no Treinamento: 0.121245\n",
      "Taxa de Erro no Treinamento: 0.061130\n",
      "2018-12-03 10:19:34.433792 Taxa de Erro na Validação: 0.830386\n",
      "Taxa de Erro no Treinamento: 0.117148\n",
      "Taxa de Erro no Treinamento: 0.140250\n",
      "Taxa de Erro no Treinamento: 0.109966\n",
      "Taxa de Erro no Treinamento: 0.073238\n",
      "Taxa de Erro no Treinamento: 0.067779\n",
      "Taxa de Erro no Treinamento: 0.074753\n",
      "Taxa de Erro no Treinamento: 0.093198\n",
      "Taxa de Erro no Treinamento: 0.108410\n",
      "Taxa de Erro no Treinamento: 0.080883\n",
      "Taxa de Erro no Treinamento: 0.072172\n",
      "2018-12-03 10:20:25.636620 Taxa de Erro na Validação: 0.715713\n",
      "Taxa de Erro no Treinamento: 0.107995\n",
      "Taxa de Erro no Treinamento: 0.053885\n",
      "Taxa de Erro no Treinamento: 0.091085\n",
      "Taxa de Erro no Treinamento: 0.108163\n",
      "Taxa de Erro no Treinamento: 0.070890\n",
      "Taxa de Erro no Treinamento: 0.089439\n",
      "Taxa de Erro no Treinamento: 0.112537\n",
      "Taxa de Erro no Treinamento: 0.125500\n",
      "Taxa de Erro no Treinamento: 0.106394\n"
     ]
    },
    {
     "data": {
      "image/png": "[encoded data removed]",
      "text/plain": [
       "<matplotlib.figure.Figure at 0x1d2fa7f7be0>"
      ]
     },
     "metadata": {},
     "output_type": "display_data"
    },
    {
     "data": {
      "image/png": "[encoded data removed]",
      "text/plain": [
       "<matplotlib.figure.Figure at 0x1d28668d160>"
      ]
     },
     "metadata": {},
     "output_type": "display_data"
    },
    {
     "ename": "SystemExit",
     "evalue": "",
     "output_type": "error",
     "traceback": [
      "An exception has occurred, use %tb to see the full traceback.\n",
      "\u001b[1;31mSystemExit\u001b[0m\n"
     ]
    }
   ],
   "source": [
    "if __name__ == \"__main__\":\n",
    "    tf.app.run()\n",
    "    print(\"Treinanento concluído\")"
   ]
  },
  {
   "cell_type": "code",
   "execution_count": null,
   "metadata": {},
   "outputs": [],
   "source": []
  }
 ],
 "metadata": {
  "kernelspec": {
   "display_name": "Python 3",
   "language": "python",
   "name": "python3"
  },
  "language_info": {
   "codemirror_mode": {
    "name": "ipython",
    "version": 3
   },
   "file_extension": ".py",
   "mimetype": "text/x-python",
   "name": "python",
   "nbconvert_exporter": "python",
   "pygments_lexer": "ipython3",
   "version": "3.7.4"
  }
 },
 "nbformat": 4,
 "nbformat_minor": 4
}
