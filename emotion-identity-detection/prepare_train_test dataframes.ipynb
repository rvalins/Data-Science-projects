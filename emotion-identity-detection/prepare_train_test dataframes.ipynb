{
 "cells": [
  {
   "cell_type": "markdown",
   "metadata": {},
   "source": [
    "# Train Test Spilt (Scikit-Learn)\n",
    "# Machine Learning with Pyhton"
   ]
  },
  {
   "cell_type": "code",
   "execution_count": 11,
   "metadata": {},
   "outputs": [],
   "source": [
    "from PIL import Image\n",
    "import urllib.request\n",
    "import io\n",
    "import os\n",
    "import pandas as pd\n",
    "import numpy as np\n",
    "from sklearn.model_selection import train_test_split\n"
   ]
  },
  {
   "cell_type": "code",
   "execution_count": null,
   "metadata": {},
   "outputs": [],
   "source": [
    "# Use this to inform an image from local directory (converting to gray scale)\n",
    "im = Image.open('images_teste/image05.jpg').convert(\"L\")"
   ]
  },
  {
   "cell_type": "code",
   "execution_count": null,
   "metadata": {},
   "outputs": [],
   "source": [
    "# Use this to inform an image from web, converting to Gray scale\n",
    "web_image = \"https://img1.thelist.com/img/gallery/what-happens-to-your-body-when-you-cry/intro-1525376112.jpg\"\n",
    "fd = urllib.request.urlopen(web_image)\n",
    "image_file = io.BytesIO(fd.read())\n",
    "im = Image.open(image_file).convert(\"L\")"
   ]
  },
  {
   "cell_type": "code",
   "execution_count": null,
   "metadata": {},
   "outputs": [],
   "source": [
    "# Run it if you want to open the image file\n",
    "im.show()"
   ]
  },
  {
   "cell_type": "code",
   "execution_count": 2,
   "metadata": {},
   "outputs": [],
   "source": [
    "# Indique aqui o diretorio de envio e o arquivo para enviar\n",
    "path = 'images_teste/'\n",
    "\n",
    "included_extentions = ['jpg', 'bmp', 'png', 'gif']\n",
    "image_list = [fn for fn in os.listdir(path)\n",
    "              if any(fn.endswith(ext) for ext in included_extentions)]\n"
   ]
  },
  {
   "cell_type": "code",
   "execution_count": 3,
   "metadata": {},
   "outputs": [
    {
     "data": {
      "text/plain": [
       "6"
      ]
     },
     "execution_count": 3,
     "metadata": {},
     "output_type": "execute_result"
    }
   ],
   "source": [
    "len(image_list)"
   ]
  },
  {
   "cell_type": "code",
   "execution_count": 4,
   "metadata": {},
   "outputs": [],
   "source": [
    "pixels = []\n",
    "for image_file in image_list:\n",
    "    im = Image.open(path+image_file).convert(\"L\")\n",
    "    pix_val = [im.getdata()]\n",
    "    pix_val_flat = [x for sets in pix_val for x in sets]\n",
    "    pixels.append(' '.join(str(x) for x in pix_val_flat))"
   ]
  },
  {
   "cell_type": "code",
   "execution_count": 5,
   "metadata": {},
   "outputs": [
    {
     "data": {
      "text/plain": [
       "6"
      ]
     },
     "execution_count": 5,
     "metadata": {},
     "output_type": "execute_result"
    }
   ],
   "source": [
    "len(pixels)"
   ]
  },
  {
   "cell_type": "code",
   "execution_count": 6,
   "metadata": {},
   "outputs": [],
   "source": [
    "# Create a DataFrame\n",
    "d = {'Class':np.nan,'Image':image_list,'Pixels':pixels}\n",
    "df = pd.DataFrame(d)"
   ]
  },
  {
   "cell_type": "code",
   "execution_count": 7,
   "metadata": {},
   "outputs": [
    {
     "data": {
      "text/html": [
       "<div>\n",
       "<style scoped>\n",
       "    .dataframe tbody tr th:only-of-type {\n",
       "        vertical-align: middle;\n",
       "    }\n",
       "\n",
       "    .dataframe tbody tr th {\n",
       "        vertical-align: top;\n",
       "    }\n",
       "\n",
       "    .dataframe thead th {\n",
       "        text-align: right;\n",
       "    }\n",
       "</style>\n",
       "<table border=\"1\" class=\"dataframe\">\n",
       "  <thead>\n",
       "    <tr style=\"text-align: right;\">\n",
       "      <th></th>\n",
       "      <th>Class</th>\n",
       "      <th>Image</th>\n",
       "      <th>Pixels</th>\n",
       "    </tr>\n",
       "  </thead>\n",
       "  <tbody>\n",
       "    <tr>\n",
       "      <th>0</th>\n",
       "      <td>NaN</td>\n",
       "      <td>image01.jpg</td>\n",
       "      <td>52 52 51 52 51 52 50 51 53 53 52 51 53 50 50 5...</td>\n",
       "    </tr>\n",
       "    <tr>\n",
       "      <th>1</th>\n",
       "      <td>NaN</td>\n",
       "      <td>image02.jpg</td>\n",
       "      <td>4 4 3 2 2 2 2 3 3 3 3 4 2 2 3 2 3 2 3 2 2 3 3 ...</td>\n",
       "    </tr>\n",
       "    <tr>\n",
       "      <th>2</th>\n",
       "      <td>NaN</td>\n",
       "      <td>image03.jpg</td>\n",
       "      <td>84 79 79 90 100 107 120 134 148 155 170 185 20...</td>\n",
       "    </tr>\n",
       "    <tr>\n",
       "      <th>3</th>\n",
       "      <td>NaN</td>\n",
       "      <td>image04.jpg</td>\n",
       "      <td>2 2 2 2 2 2 2 2 3 3 3 3 3 4 4 5 7 8 10 12 13 1...</td>\n",
       "    </tr>\n",
       "    <tr>\n",
       "      <th>4</th>\n",
       "      <td>NaN</td>\n",
       "      <td>image05.jpg</td>\n",
       "      <td>94 94 94 94 95 95 96 96 96 96 97 97 97 98 98 9...</td>\n",
       "    </tr>\n",
       "    <tr>\n",
       "      <th>5</th>\n",
       "      <td>NaN</td>\n",
       "      <td>image06.jpg</td>\n",
       "      <td>39 39 39 39 39 39 39 39 39 39 40 40 40 40 40 4...</td>\n",
       "    </tr>\n",
       "  </tbody>\n",
       "</table>\n",
       "</div>"
      ],
      "text/plain": [
       "   Class        Image                                             Pixels\n",
       "0    NaN  image01.jpg  52 52 51 52 51 52 50 51 53 53 52 51 53 50 50 5...\n",
       "1    NaN  image02.jpg  4 4 3 2 2 2 2 3 3 3 3 4 2 2 3 2 3 2 3 2 2 3 3 ...\n",
       "2    NaN  image03.jpg  84 79 79 90 100 107 120 134 148 155 170 185 20...\n",
       "3    NaN  image04.jpg  2 2 2 2 2 2 2 2 3 3 3 3 3 4 4 5 7 8 10 12 13 1...\n",
       "4    NaN  image05.jpg  94 94 94 94 95 95 96 96 96 96 97 97 97 98 98 9...\n",
       "5    NaN  image06.jpg  39 39 39 39 39 39 39 39 39 39 40 40 40 40 40 4..."
      ]
     },
     "execution_count": 7,
     "metadata": {},
     "output_type": "execute_result"
    }
   ],
   "source": [
    "# Show DataFrame\n",
    "df"
   ]
  },
  {
   "cell_type": "code",
   "execution_count": 8,
   "metadata": {},
   "outputs": [],
   "source": [
    "\n",
    "train, test = train_test_split(df, test_size=0.2,random_state=200)"
   ]
  },
  {
   "cell_type": "code",
   "execution_count": 9,
   "metadata": {},
   "outputs": [
    {
     "data": {
      "text/html": [
       "<div>\n",
       "<style scoped>\n",
       "    .dataframe tbody tr th:only-of-type {\n",
       "        vertical-align: middle;\n",
       "    }\n",
       "\n",
       "    .dataframe tbody tr th {\n",
       "        vertical-align: top;\n",
       "    }\n",
       "\n",
       "    .dataframe thead th {\n",
       "        text-align: right;\n",
       "    }\n",
       "</style>\n",
       "<table border=\"1\" class=\"dataframe\">\n",
       "  <thead>\n",
       "    <tr style=\"text-align: right;\">\n",
       "      <th></th>\n",
       "      <th>Class</th>\n",
       "      <th>Image</th>\n",
       "      <th>Pixels</th>\n",
       "    </tr>\n",
       "  </thead>\n",
       "  <tbody>\n",
       "    <tr>\n",
       "      <th>3</th>\n",
       "      <td>NaN</td>\n",
       "      <td>image04.jpg</td>\n",
       "      <td>2 2 2 2 2 2 2 2 3 3 3 3 3 4 4 5 7 8 10 12 13 1...</td>\n",
       "    </tr>\n",
       "    <tr>\n",
       "      <th>0</th>\n",
       "      <td>NaN</td>\n",
       "      <td>image01.jpg</td>\n",
       "      <td>52 52 51 52 51 52 50 51 53 53 52 51 53 50 50 5...</td>\n",
       "    </tr>\n",
       "    <tr>\n",
       "      <th>1</th>\n",
       "      <td>NaN</td>\n",
       "      <td>image02.jpg</td>\n",
       "      <td>4 4 3 2 2 2 2 3 3 3 3 4 2 2 3 2 3 2 3 2 2 3 3 ...</td>\n",
       "    </tr>\n",
       "    <tr>\n",
       "      <th>2</th>\n",
       "      <td>NaN</td>\n",
       "      <td>image03.jpg</td>\n",
       "      <td>84 79 79 90 100 107 120 134 148 155 170 185 20...</td>\n",
       "    </tr>\n",
       "  </tbody>\n",
       "</table>\n",
       "</div>"
      ],
      "text/plain": [
       "   Class        Image                                             Pixels\n",
       "3    NaN  image04.jpg  2 2 2 2 2 2 2 2 3 3 3 3 3 4 4 5 7 8 10 12 13 1...\n",
       "0    NaN  image01.jpg  52 52 51 52 51 52 50 51 53 53 52 51 53 50 50 5...\n",
       "1    NaN  image02.jpg  4 4 3 2 2 2 2 3 3 3 3 4 2 2 3 2 3 2 3 2 2 3 3 ...\n",
       "2    NaN  image03.jpg  84 79 79 90 100 107 120 134 148 155 170 185 20..."
      ]
     },
     "execution_count": 9,
     "metadata": {},
     "output_type": "execute_result"
    }
   ],
   "source": [
    "train"
   ]
  },
  {
   "cell_type": "code",
   "execution_count": 10,
   "metadata": {},
   "outputs": [
    {
     "data": {
      "text/html": [
       "<div>\n",
       "<style scoped>\n",
       "    .dataframe tbody tr th:only-of-type {\n",
       "        vertical-align: middle;\n",
       "    }\n",
       "\n",
       "    .dataframe tbody tr th {\n",
       "        vertical-align: top;\n",
       "    }\n",
       "\n",
       "    .dataframe thead th {\n",
       "        text-align: right;\n",
       "    }\n",
       "</style>\n",
       "<table border=\"1\" class=\"dataframe\">\n",
       "  <thead>\n",
       "    <tr style=\"text-align: right;\">\n",
       "      <th></th>\n",
       "      <th>Class</th>\n",
       "      <th>Image</th>\n",
       "      <th>Pixels</th>\n",
       "    </tr>\n",
       "  </thead>\n",
       "  <tbody>\n",
       "    <tr>\n",
       "      <th>4</th>\n",
       "      <td>NaN</td>\n",
       "      <td>image05.jpg</td>\n",
       "      <td>94 94 94 94 95 95 96 96 96 96 97 97 97 98 98 9...</td>\n",
       "    </tr>\n",
       "    <tr>\n",
       "      <th>5</th>\n",
       "      <td>NaN</td>\n",
       "      <td>image06.jpg</td>\n",
       "      <td>39 39 39 39 39 39 39 39 39 39 40 40 40 40 40 4...</td>\n",
       "    </tr>\n",
       "  </tbody>\n",
       "</table>\n",
       "</div>"
      ],
      "text/plain": [
       "   Class        Image                                             Pixels\n",
       "4    NaN  image05.jpg  94 94 94 94 95 95 96 96 96 96 97 97 97 98 98 9...\n",
       "5    NaN  image06.jpg  39 39 39 39 39 39 39 39 39 39 40 40 40 40 40 4..."
      ]
     },
     "execution_count": 10,
     "metadata": {},
     "output_type": "execute_result"
    }
   ],
   "source": [
    "test"
   ]
  },
  {
   "cell_type": "code",
   "execution_count": null,
   "metadata": {},
   "outputs": [],
   "source": [
    "# Now you are able to export to csv files and to add classification to train dataset"
   ]
  }
 ],
 "metadata": {
  "kernelspec": {
   "display_name": "Python 3",
   "language": "python",
   "name": "python3"
  },
  "language_info": {
   "codemirror_mode": {
    "name": "ipython",
    "version": 3
   },
   "file_extension": ".py",
   "mimetype": "text/x-python",
   "name": "python",
   "nbconvert_exporter": "python",
   "pygments_lexer": "ipython3",
   "version": "3.7.4"
  }
 },
 "nbformat": 4,
 "nbformat_minor": 4
}
